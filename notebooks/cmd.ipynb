{
 "cells": [
  {
   "cell_type": "code",
   "execution_count": 1,
   "id": "f40e522d-5d39-4a42-b2e2-ad896c825628",
   "metadata": {
    "tags": []
   },
   "outputs": [
    {
     "name": "stdout",
     "output_type": "stream",
     "text": [
      "--2023-04-10 06:12:47--  https://d37ci6vzurychx.cloudfront.net/trip-data/yellow_tripdata_2023-01.parquet\n",
      "Resolving d37ci6vzurychx.cloudfront.net (d37ci6vzurychx.cloudfront.net)... 52.85.114.39, 52.85.114.180, 52.85.114.114, ...\n",
      "Connecting to d37ci6vzurychx.cloudfront.net (d37ci6vzurychx.cloudfront.net)|52.85.114.39|:443... connected.\n",
      "HTTP request sent, awaiting response... 200 OK\n",
      "Length: 47673370 (45M) [application/x-www-form-urlencoded]\n",
      "Saving to: ‘/tmp/taxi.parquet’\n",
      "\n",
      "/tmp/taxi.parquet   100%[===================>]  45.46M  8.52MB/s    in 5.5s    \n",
      "\n",
      "2023-04-10 06:12:53 (8.21 MB/s) - ‘/tmp/taxi.parquet’ saved [47673370/47673370]\n",
      "\n"
     ]
    }
   ],
   "source": [
    "wget -O /tmp/taxi.parquet 'https://d37ci6vzurychx.cloudfront.net/trip-data/yellow_tripdata_2023-01.parquet'"
   ]
  },
  {
   "cell_type": "code",
   "execution_count": 2,
   "id": "8956a826-e68d-4bb5-af23-5ad53bcaf273",
   "metadata": {
    "tags": []
   },
   "outputs": [
    {
     "name": "stdout",
     "output_type": "stream",
     "text": [
      "taxi.parquet                                  100%   45MB  95.8MB/s   00:00    \n"
     ]
    }
   ],
   "source": [
    "scp /tmp/taxi.parquet hdfs@worker-1:/tmp"
   ]
  },
  {
   "cell_type": "code",
   "execution_count": 3,
   "id": "90a6047c-feee-40fe-88a8-a196d0bb2091",
   "metadata": {
    "tags": []
   },
   "outputs": [],
   "source": [
    "ssh hdfs@worker-1 'hdfs dfs -put /tmp/taxi.parquet /user/jovyan'"
   ]
  },
  {
   "cell_type": "code",
   "execution_count": null,
   "id": "627ceca4-3fe1-417d-8b8a-4c0ce31da07e",
   "metadata": {},
   "outputs": [],
   "source": []
  },
  {
   "cell_type": "code",
   "execution_count": null,
   "id": "5fc57fc1-3bb7-4e53-b03a-e3e03507fb5d",
   "metadata": {},
   "outputs": [],
   "source": []
  },
  {
   "cell_type": "code",
   "execution_count": null,
   "id": "b4511209-81b0-4291-a923-c5cf53598074",
   "metadata": {},
   "outputs": [],
   "source": []
  },
  {
   "cell_type": "code",
   "execution_count": 2,
   "id": "4bea65dc-45b0-46e8-8335-adfbf1b9c9ac",
   "metadata": {
    "tags": []
   },
   "outputs": [],
   "source": [
    "cd /usr/local/spark"
   ]
  },
  {
   "cell_type": "code",
   "execution_count": null,
   "id": "c9789b5b-893c-4dbf-a256-5952f49b7641",
   "metadata": {
    "tags": []
   },
   "outputs": [],
   "source": [
    "./bin/spark-submit --class org.apache.spark.examples.SparkPi \\\n",
    "    --master yarn \\\n",
    "    --deploy-mode client \\\n",
    "    --driver-memory 500m \\\n",
    "    --executor-memory 1500m \\\n",
    "    --executor-cores 2 \\\n",
    "    --num-executors 4 \\\n",
    "    examples/jars/spark-examples*.jar \\\n",
    "    10"
   ]
  },
  {
   "cell_type": "code",
   "execution_count": null,
   "id": "466be201-d764-4f63-8e88-890cd9cd9cf6",
   "metadata": {},
   "outputs": [],
   "source": []
  }
 ],
 "metadata": {
  "kernelspec": {
   "display_name": "Bash",
   "language": "bash",
   "name": "bash"
  },
  "language_info": {
   "codemirror_mode": "shell",
   "file_extension": ".sh",
   "mimetype": "text/x-sh",
   "name": "bash"
  }
 },
 "nbformat": 4,
 "nbformat_minor": 5
}
