{
 "cells": [
  {
   "cell_type": "markdown",
   "id": "5ed2e4dd-428b-43d5-8084-e224348beff3",
   "metadata": {},
   "source": [
    "# Spark Caching"
   ]
  },
  {
   "cell_type": "code",
   "execution_count": null,
   "id": "f8821ce4-11f8-42fb-b209-aba8e6c0c6ee",
   "metadata": {
    "tags": []
   },
   "outputs": [],
   "source": [
    "from pyspark.sql import SparkSession\n",
    "from pyspark.sql.functions import col\n",
    "from pyspark.sql import functions as F\n",
    "from pyspark.sql.types import *"
   ]
  },
  {
   "cell_type": "code",
   "execution_count": null,
   "id": "66ed9ef6-a12c-4053-a382-467d632cbc78",
   "metadata": {
    "tags": []
   },
   "outputs": [],
   "source": [
    "spark = (\n",
    "    SparkSession\n",
    "      .builder\n",
    "      .appName(\"Yarn Default\")\n",
    "      .master(\"yarn\")\n",
    "      .getOrCreate()\n",
    ")"
   ]
  },
  {
   "cell_type": "markdown",
   "id": "21459518-a0b2-4c93-9d99-63641d753a27",
   "metadata": {
    "tags": []
   },
   "source": [
    "## Подготовка данных"
   ]
  },
  {
   "cell_type": "code",
   "execution_count": null,
   "id": "d0ca6921-8130-4e26-8801-f54c3a157a05",
   "metadata": {
    "tags": []
   },
   "outputs": [],
   "source": [
    "schema = StructType([\n",
    "    StructField(\"VendorID\", LongType()),\n",
    "    StructField(\"tpep_pickup_datetime\", TimestampType()),\n",
    "    StructField(\"tpep_dropoff_datetime\", TimestampType()),\n",
    "    StructField(\"passenger_count\", DoubleType()),\n",
    "    StructField(\"trip_distance\", DoubleType()),\n",
    "    StructField(\"RatecodeID\", DoubleType()),\n",
    "    StructField(\"store_and_fwd_flag\", StringType()),\n",
    "    StructField(\"PULocationID\", LongType()),\n",
    "    StructField(\"DOLocationID\", LongType()),\n",
    "    StructField(\"payment_type\", LongType()),\n",
    "    StructField(\"fare_amount\", DoubleType()),\n",
    "    StructField(\"extra\", DoubleType()),\n",
    "    StructField(\"mta_tax\", DoubleType()),\n",
    "    StructField(\"tip_amount\", DoubleType()),\n",
    "    StructField(\"tolls_amount\", DoubleType()),\n",
    "    StructField(\"improvement_surcharge\", DoubleType()),\n",
    "    StructField(\"total_amount\", DoubleType()),\n",
    "    StructField(\"congestion_surcharge\", DoubleType()),\n",
    "    StructField(\"airport_fee\", DoubleType()),\n",
    "])"
   ]
  },
  {
   "cell_type": "code",
   "execution_count": null,
   "id": "01ae492e-f158-4622-b14a-7769ef2be7e1",
   "metadata": {},
   "outputs": [],
   "source": [
    "! wget -O /tmp/taxi.parquet 'https://d37ci6vzurychx.cloudfront.net/trip-data/yellow_tripdata_2023-01.parquet'"
   ]
  },
  {
   "cell_type": "code",
   "execution_count": null,
   "id": "a1ec1ae8-80c3-4895-8b01-c833475de7f3",
   "metadata": {},
   "outputs": [],
   "source": [
    "! scp /tmp/taxi.parquet hdfs@worker-1:/tmp"
   ]
  },
  {
   "cell_type": "code",
   "execution_count": null,
   "id": "c38c05b4-58e8-4db9-9efa-67835f1d58b7",
   "metadata": {},
   "outputs": [],
   "source": [
    "! ssh hdfs@worker-1 'hdfs dfs -put /tmp/taxi.parquet /user/jovyan'"
   ]
  },
  {
   "cell_type": "code",
   "execution_count": null,
   "id": "4bc18a3b-289f-4084-b6a1-ed16c1c18566",
   "metadata": {},
   "outputs": [],
   "source": [
    "! ssh hdfs@worker-1 'hdfs dfs -ls /user/jovyan'"
   ]
  },
  {
   "cell_type": "code",
   "execution_count": null,
   "id": "cec0a924-ab5b-4c15-99ac-f62a546306c3",
   "metadata": {},
   "outputs": [],
   "source": [
    "spark \\\n",
    "  .read \\\n",
    "  .schema(schema) \\\n",
    "  .parquet(\"taxi.parquet\") \\\n",
    "  .repartition(4, \"passenger_count\") \\\n",
    "  .write \\\n",
    "  .mode(\"overwrite\") \\\n",
    "  .parquet(\"taxi\")"
   ]
  },
  {
   "cell_type": "code",
   "execution_count": null,
   "id": "9ede4b61-e6db-40c4-a912-65810bf387e6",
   "metadata": {},
   "outputs": [],
   "source": [
    "taxi_df = spark.read.schema(schema).parquet(\"taxi\")"
   ]
  },
  {
   "cell_type": "code",
   "execution_count": null,
   "id": "4a757f4e-31c0-4aab-9d2e-35632b5ab689",
   "metadata": {},
   "outputs": [],
   "source": [
    "def query(df):\n",
    "    return (\n",
    "        df.filter(df.passenger_count < 5)\n",
    "            .distinct()\n",
    "    )"
   ]
  },
  {
   "cell_type": "markdown",
   "id": "e2873d4e-43a8-414a-8696-9f8aac4add3e",
   "metadata": {
    "tags": []
   },
   "source": [
    "## Оригинальный запрос"
   ]
  },
  {
   "cell_type": "markdown",
   "id": "f5ff5439-dc7b-43a0-ba7f-71f1f0f8941f",
   "metadata": {},
   "source": [
    "Выполним запрос:"
   ]
  },
  {
   "cell_type": "code",
   "execution_count": null,
   "id": "c0fa12a2-def9-4159-a435-cdf34467207c",
   "metadata": {},
   "outputs": [],
   "source": [
    "result = query(taxi_df)\n",
    "result.count()"
   ]
  },
  {
   "cell_type": "code",
   "execution_count": null,
   "id": "181b764a-621f-4947-a322-d89536c9d6f1",
   "metadata": {
    "tags": []
   },
   "outputs": [],
   "source": [
    "spark.stop()"
   ]
  },
  {
   "cell_type": "markdown",
   "id": "9105b2ad-0bfc-4d71-93c3-570d623afeb2",
   "metadata": {},
   "source": [
    "## Увеличить число воркеров"
   ]
  },
  {
   "cell_type": "code",
   "execution_count": null,
   "id": "0fe62bea-4e95-426b-924b-fe084272d50b",
   "metadata": {},
   "outputs": [],
   "source": [
    "spark = (\n",
    "    SparkSession\n",
    "      .builder\n",
    "      .appName(\"Yarn Increase Heap\")\n",
    "      .master(\"yarn\")\n",
    "      .config(\"spark.executor.instances\", 3)\n",
    "      .getOrCreate()\n",
    ")"
   ]
  },
  {
   "cell_type": "code",
   "execution_count": null,
   "id": "d8e9987f-2142-4e49-8b68-e7f54f85bde9",
   "metadata": {},
   "outputs": [],
   "source": [
    "result = query(taxi_df)\n",
    "result.count()"
   ]
  },
  {
   "cell_type": "code",
   "execution_count": null,
   "id": "b92a1dd5-00a1-407f-8c30-26524e986e53",
   "metadata": {},
   "outputs": [],
   "source": [
    "spark.stop()"
   ]
  },
  {
   "cell_type": "markdown",
   "id": "5f48b7fe-cf58-4792-9226-61fe5b85acc7",
   "metadata": {},
   "source": [
    "## Опмитизация spill данных при исполнении"
   ]
  },
  {
   "cell_type": "code",
   "execution_count": null,
   "id": "9d5eea24-983d-4ad9-81cc-67527fe28142",
   "metadata": {},
   "outputs": [],
   "source": [
    "spark = (\n",
    "    SparkSession\n",
    "      .builder\n",
    "      .appName(\"Yarn Eliminate Splills\")\n",
    "      .master(\"yarn\")\n",
    "      .config(\"spark.executor.instances\", 3)\n",
    "      .config(\"spark.executor.memory\", \"2g\")\n",
    "      .config(\"spark.memory.fraction\", \"0.8\")\n",
    "      .config(\"spark.memory.storrageFraction\", \"0.0\")\n",
    "      .getOrCreate()\n",
    ")"
   ]
  },
  {
   "cell_type": "code",
   "execution_count": null,
   "id": "8c5703f4-98df-44d9-a5ea-a41a42df7f14",
   "metadata": {},
   "outputs": [],
   "source": [
    "result = query(taxi_df)\n",
    "result.count()"
   ]
  },
  {
   "cell_type": "code",
   "execution_count": null,
   "id": "4f541f10-55b9-4a4e-a5aa-acd2f7ba6fea",
   "metadata": {},
   "outputs": [],
   "source": [
    "spark.stop()"
   ]
  },
  {
   "cell_type": "markdown",
   "id": "c9e01d25-113b-4ad5-97b2-c34bd7edbcf8",
   "metadata": {},
   "source": [
    "## Оптимизация параллелизма"
   ]
  },
  {
   "cell_type": "code",
   "execution_count": null,
   "id": "5cb74b7d-d545-4f45-a383-f1a908271cb9",
   "metadata": {},
   "outputs": [],
   "source": [
    "spark = (\n",
    "    SparkSession\n",
    "      .builder\n",
    "      .appName(\"Yarn Increase Parallelism\")\n",
    "      .master(\"yarn\")\n",
    "      .config(\"spark.executor.instances\", 3)\n",
    "      .config(\"spark.executor.cores\", 3)\n",
    "      .config(\"spark.executor.memory\", \"2g\")\n",
    "      .config(\"spark.memory.fraction\", \"0.7\")\n",
    "      .config(\"spark.memory.storrageFraction\", \"0.0\")\n",
    "      .getOrCreate()\n",
    ")"
   ]
  },
  {
   "cell_type": "code",
   "execution_count": null,
   "id": "423c14e7-0dd6-4fbe-9d7f-22b53e6839de",
   "metadata": {},
   "outputs": [],
   "source": [
    "result = query(taxi_df)\n",
    "result.count()"
   ]
  },
  {
   "cell_type": "code",
   "execution_count": null,
   "id": "c056fac1-fdc9-48b0-98e7-28beeb1ff079",
   "metadata": {},
   "outputs": [],
   "source": [
    "spark.stop()"
   ]
  },
  {
   "cell_type": "markdown",
   "id": "017fbab0-8d45-41af-9503-9bbe5b2332e4",
   "metadata": {},
   "source": [
    "## Избавление от перекошенных (skewed) партиций"
   ]
  },
  {
   "cell_type": "code",
   "execution_count": null,
   "id": "c153a998-86f7-4f63-b747-ddeb5edbd19a",
   "metadata": {},
   "outputs": [],
   "source": [
    "spark = (\n",
    "    SparkSession\n",
    "      .builder\n",
    "      .appName(\"Yarn Increase Parallelism\")\n",
    "      .master(\"yarn\")\n",
    "      .config(\"spark.executor.instances\", 3)\n",
    "      .config(\"spark.executor.cores\", 3)\n",
    "      .config(\"spark.executor.memory\", \"2g\")\n",
    "      .config(\"spark.memory.fraction\", \"0.7\")\n",
    "      .config(\"spark.memory.storrageFraction\", \"0.0\")\n",
    "      .getOrCreate()\n",
    ")"
   ]
  },
  {
   "cell_type": "code",
   "execution_count": null,
   "id": "cbc4e18a-7064-4547-bb25-d39f87da51a0",
   "metadata": {},
   "outputs": [],
   "source": [
    "result = query(taxi_df.repartition(3))\n",
    "result.count()"
   ]
  },
  {
   "cell_type": "code",
   "execution_count": null,
   "id": "8f7809e0-80dd-44da-be4b-aa7ce93e675f",
   "metadata": {},
   "outputs": [],
   "source": [
    "spark.stop()"
   ]
  },
  {
   "cell_type": "markdown",
   "id": "4ac21c50-b208-47b1-85dd-d11f1452e73a",
   "metadata": {},
   "source": [
    "## Бакеты"
   ]
  },
  {
   "cell_type": "code",
   "execution_count": null,
   "id": "dd5a7340-a09f-482e-a5b3-4438b6c8ecca",
   "metadata": {},
   "outputs": [],
   "source": [
    "spark = (\n",
    "    SparkSession\n",
    "      .builder\n",
    "      .appName(\"Yarn Bucketing\")\n",
    "      .master(\"yarn\")\n",
    "      .config(\"spark.executor.instances\", 3)\n",
    "      .config(\"spark.executor.cores\", 3)\n",
    "      .config(\"spark.executor.memory\", \"2g\")\n",
    "      .config(\"spark.memory.fraction\", \"0.7\")\n",
    "      .config(\"spark.memory.storrageFraction\", \"0.0\")\n",
    "      .config(\"spark.sql.warehouse.dir\", \"spark-warehouse\")\n",
    "      .getOrCreate()\n",
    ")"
   ]
  },
  {
   "cell_type": "code",
   "execution_count": null,
   "id": "91e4e227-859f-4e3a-9346-36581a5dbd68",
   "metadata": {},
   "outputs": [],
   "source": [
    "taxi_df.write.mode(\"overwrite\").bucketBy(9, \"passenger_count\").saveAsTable(\"taxi\")"
   ]
  },
  {
   "cell_type": "code",
   "execution_count": null,
   "id": "55031dd9-9d6a-4a3b-834c-cfaf5c52dcb3",
   "metadata": {},
   "outputs": [],
   "source": [
    "taxi = spark.table(\"taxi\")\n",
    "result = query(taxi)\n",
    "result.count()"
   ]
  },
  {
   "cell_type": "code",
   "execution_count": null,
   "id": "55e50c9e-5274-496a-b32c-c2ae62440c58",
   "metadata": {},
   "outputs": [],
   "source": []
  }
 ],
 "metadata": {
  "kernelspec": {
   "display_name": "Python 3 (ipykernel)",
   "language": "python",
   "name": "python3"
  },
  "language_info": {
   "codemirror_mode": {
    "name": "ipython",
    "version": 3
   },
   "file_extension": ".py",
   "mimetype": "text/x-python",
   "name": "python",
   "nbconvert_exporter": "python",
   "pygments_lexer": "ipython3",
   "version": "3.10.8"
  }
 },
 "nbformat": 4,
 "nbformat_minor": 5
}
