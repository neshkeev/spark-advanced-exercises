{
 "cells": [
  {
   "cell_type": "markdown",
   "id": "5ed2e4dd-428b-43d5-8084-e224348beff3",
   "metadata": {},
   "source": [
    "# Spark Caching"
   ]
  },
  {
   "cell_type": "code",
   "execution_count": 1,
   "id": "f8821ce4-11f8-42fb-b209-aba8e6c0c6ee",
   "metadata": {
    "tags": []
   },
   "outputs": [],
   "source": [
    "# https://d37ci6vzurychx.cloudfront.net/trip-data/yellow_tripdata_2023-01.parquet\n",
    "from pyspark.sql import SparkSession\n",
    "from pyspark.sql.functions import col\n",
    "from pyspark.sql import functions as F\n",
    "from pyspark.sql.types import *"
   ]
  },
  {
   "cell_type": "code",
   "execution_count": 2,
   "id": "66ed9ef6-a12c-4053-a382-467d632cbc78",
   "metadata": {
    "tags": []
   },
   "outputs": [],
   "source": [
    "spark = (\n",
    "    SparkSession\n",
    "      .builder\n",
    "      .appName(\"Yarn Default\")\n",
    "      .master(\"yarn\")\n",
    "      .getOrCreate()\n",
    ")"
   ]
  },
  {
   "cell_type": "code",
   "execution_count": null,
   "id": "3f682871-79fb-448c-b64a-c0ff92977cb2",
   "metadata": {},
   "outputs": [],
   "source": []
  },
  {
   "cell_type": "code",
   "execution_count": 7,
   "id": "ec4f84cd-2de7-45b5-bd0e-51b2e6ba660a",
   "metadata": {
    "tags": []
   },
   "outputs": [],
   "source": [
    "spark = (\n",
    "    SparkSession\n",
    "      .builder\n",
    "      .appName(\"Caching\")\n",
    "      .master(\"yarn\")\n",
    "      .config(\"spark.yarn.am.memoryOverhead\", 384)\n",
    "      .config(\"spark.driver.memory\", \"1000m\")\n",
    "      .config(\"spark.driver.extraJavaOptions\", \"\")\n",
    "      .config(\"spark.executor.instances\", \"3\")\n",
    "      .config(\"spark.executor.cores\", 4)\n",
    "      .config(\"spark.executor.memory\", \"1000m\")\n",
    "      .config(\"spark.executor.extraJavaOptions\", \"-XX:NewSize=950M -XX:+PrintGCDetails -XX:+PrintGCTimeStamps\")\n",
    "      .getOrCreate()\n",
    ")"
   ]
  },
  {
   "cell_type": "markdown",
   "id": "21459518-a0b2-4c93-9d99-63641d753a27",
   "metadata": {
    "tags": []
   },
   "source": [
    "## Подготовка данных"
   ]
  },
  {
   "cell_type": "code",
   "execution_count": 3,
   "id": "d0ca6921-8130-4e26-8801-f54c3a157a05",
   "metadata": {
    "tags": []
   },
   "outputs": [],
   "source": [
    "schema = StructType([\n",
    "    StructField(\"VendorID\", LongType()),\n",
    "    StructField(\"tpep_pickup_datetime\", TimestampType()),\n",
    "    StructField(\"tpep_dropoff_datetime\", TimestampType()),\n",
    "    StructField(\"passenger_count\", DoubleType()),\n",
    "    StructField(\"trip_distance\", DoubleType()),\n",
    "    StructField(\"RatecodeID\", DoubleType()),\n",
    "    StructField(\"store_and_fwd_flag\", StringType()),\n",
    "    StructField(\"PULocationID\", LongType()),\n",
    "    StructField(\"DOLocationID\", LongType()),\n",
    "    StructField(\"payment_type\", LongType()),\n",
    "    StructField(\"fare_amount\", DoubleType()),\n",
    "    StructField(\"extra\", DoubleType()),\n",
    "    StructField(\"mta_tax\", DoubleType()),\n",
    "    StructField(\"tip_amount\", DoubleType()),\n",
    "    StructField(\"tolls_amount\", DoubleType()),\n",
    "    StructField(\"improvement_surcharge\", DoubleType()),\n",
    "    StructField(\"total_amount\", DoubleType()),\n",
    "    StructField(\"congestion_surcharge\", DoubleType()),\n",
    "    StructField(\"airport_fee\", DoubleType()),\n",
    "])"
   ]
  },
  {
   "cell_type": "code",
   "execution_count": 4,
   "id": "01ae492e-f158-4622-b14a-7769ef2be7e1",
   "metadata": {},
   "outputs": [
    {
     "name": "stdout",
     "output_type": "stream",
     "text": [
      "--2023-04-10 07:00:49--  https://d37ci6vzurychx.cloudfront.net/trip-data/yellow_tripdata_2023-01.parquet\n",
      "Resolving d37ci6vzurychx.cloudfront.net (d37ci6vzurychx.cloudfront.net)... 52.85.114.39, 52.85.114.180, 52.85.114.114, ...\n",
      "Connecting to d37ci6vzurychx.cloudfront.net (d37ci6vzurychx.cloudfront.net)|52.85.114.39|:443... connected.\n",
      "HTTP request sent, awaiting response... 200 OK\n",
      "Length: 47673370 (45M) [application/x-www-form-urlencoded]\n",
      "Saving to: ‘/tmp/taxi.parquet’\n",
      "\n",
      "/tmp/taxi.parquet   100%[===================>]  45.46M  8.27MB/s    in 5.9s    \n",
      "\n",
      "2023-04-10 07:00:56 (7.66 MB/s) - ‘/tmp/taxi.parquet’ saved [47673370/47673370]\n",
      "\n"
     ]
    }
   ],
   "source": [
    "! wget -O /tmp/taxi.parquet 'https://d37ci6vzurychx.cloudfront.net/trip-data/yellow_tripdata_2023-01.parquet'"
   ]
  },
  {
   "cell_type": "code",
   "execution_count": 5,
   "id": "a1ec1ae8-80c3-4895-8b01-c833475de7f3",
   "metadata": {},
   "outputs": [
    {
     "name": "stdout",
     "output_type": "stream",
     "text": [
      "taxi.parquet                                  100%   45MB  88.4MB/s   00:00    \n"
     ]
    }
   ],
   "source": [
    "! scp /tmp/taxi.parquet hdfs@worker-1:/tmp"
   ]
  },
  {
   "cell_type": "code",
   "execution_count": 6,
   "id": "c38c05b4-58e8-4db9-9efa-67835f1d58b7",
   "metadata": {},
   "outputs": [],
   "source": [
    "! ssh hdfs@worker-1 'hdfs dfs -put /tmp/taxi.parquet /user/jovyan'"
   ]
  },
  {
   "cell_type": "code",
   "execution_count": 7,
   "id": "4bc18a3b-289f-4084-b6a1-ed16c1c18566",
   "metadata": {},
   "outputs": [
    {
     "name": "stdout",
     "output_type": "stream",
     "text": [
      "Found 2 items\n",
      "drwxr-xr-x   - jovyan supergroup          0 2023-04-10 07:00 /user/jovyan/.sparkStaging\n",
      "-rw-r--r--   3 hdfs   supergroup   47673370 2023-04-10 07:01 /user/jovyan/taxi.parquet\n"
     ]
    }
   ],
   "source": [
    "! ssh hdfs@worker-1 'hdfs dfs -ls /user/jovyan'"
   ]
  },
  {
   "cell_type": "code",
   "execution_count": 9,
   "id": "cec0a924-ab5b-4c15-99ac-f62a546306c3",
   "metadata": {},
   "outputs": [],
   "source": [
    "spark.read.schema(schema).parquet(\"taxi.parquet\").repartition(4, \"passenger_count\").write.mode(\"overwrite\").parquet(\"taxi\")"
   ]
  },
  {
   "cell_type": "code",
   "execution_count": 10,
   "id": "9ede4b61-e6db-40c4-a912-65810bf387e6",
   "metadata": {},
   "outputs": [],
   "source": [
    "taxi_df = spark.read.schema(schema).parquet(\"taxi\")"
   ]
  },
  {
   "cell_type": "code",
   "execution_count": 11,
   "id": "fef45762-a093-422c-82ed-ec297b267383",
   "metadata": {},
   "outputs": [
    {
     "name": "stdout",
     "output_type": "stream",
     "text": [
      "+--------------------+-------+\n",
      "|SPARK_PARTITION_ID()|  count|\n",
      "+--------------------+-------+\n",
      "|                   0|2493241|\n",
      "|                   1| 573525|\n",
      "+--------------------+-------+\n",
      "\n"
     ]
    }
   ],
   "source": [
    "taxi_df.groupby(F.spark_partition_id()).count().show()"
   ]
  },
  {
   "cell_type": "markdown",
   "id": "e2873d4e-43a8-414a-8696-9f8aac4add3e",
   "metadata": {
    "tags": []
   },
   "source": [
    "# Особенности кэширования"
   ]
  },
  {
   "cell_type": "markdown",
   "id": "f5ff5439-dc7b-43a0-ba7f-71f1f0f8941f",
   "metadata": {},
   "source": [
    "Закэшируем запрос:"
   ]
  },
  {
   "cell_type": "code",
   "execution_count": 12,
   "id": "c0fa12a2-def9-4159-a435-cdf34467207c",
   "metadata": {},
   "outputs": [],
   "source": [
    "result = (\n",
    "    taxi_df\n",
    "        .filter(taxi_df.passenger_count < 5)\n",
    "        #.distinct()\n",
    ")"
   ]
  },
  {
   "cell_type": "code",
   "execution_count": 13,
   "id": "f5a95a13-5f64-4c2f-9d02-b7eed9985131",
   "metadata": {
    "tags": []
   },
   "outputs": [
    {
     "data": {
      "text/plain": [
       "[Row(VendorID=2, tpep_pickup_datetime=datetime.datetime(2023, 1, 1, 0, 32, 10), tpep_dropoff_datetime=datetime.datetime(2023, 1, 1, 0, 40, 36), passenger_count=1.0, trip_distance=0.97, RatecodeID=1.0, store_and_fwd_flag='N', PULocationID=161, DOLocationID=141, payment_type=2, fare_amount=9.3, extra=1.0, mta_tax=0.5, tip_amount=0.0, tolls_amount=0.0, improvement_surcharge=1.0, total_amount=14.3, congestion_surcharge=2.5, airport_fee=0.0),\n",
       " Row(VendorID=2, tpep_pickup_datetime=datetime.datetime(2023, 1, 1, 0, 55, 8), tpep_dropoff_datetime=datetime.datetime(2023, 1, 1, 1, 1, 27), passenger_count=1.0, trip_distance=1.1, RatecodeID=1.0, store_and_fwd_flag='N', PULocationID=43, DOLocationID=237, payment_type=1, fare_amount=7.9, extra=1.0, mta_tax=0.5, tip_amount=4.0, tolls_amount=0.0, improvement_surcharge=1.0, total_amount=16.9, congestion_surcharge=2.5, airport_fee=0.0),\n",
       " Row(VendorID=2, tpep_pickup_datetime=datetime.datetime(2023, 1, 1, 0, 25, 4), tpep_dropoff_datetime=datetime.datetime(2023, 1, 1, 0, 37, 49), passenger_count=1.0, trip_distance=2.51, RatecodeID=1.0, store_and_fwd_flag='N', PULocationID=48, DOLocationID=238, payment_type=1, fare_amount=14.9, extra=1.0, mta_tax=0.5, tip_amount=15.0, tolls_amount=0.0, improvement_surcharge=1.0, total_amount=34.9, congestion_surcharge=2.5, airport_fee=0.0),\n",
       " Row(VendorID=2, tpep_pickup_datetime=datetime.datetime(2023, 1, 1, 0, 10, 29), tpep_dropoff_datetime=datetime.datetime(2023, 1, 1, 0, 21, 19), passenger_count=1.0, trip_distance=1.43, RatecodeID=1.0, store_and_fwd_flag='N', PULocationID=107, DOLocationID=79, payment_type=1, fare_amount=11.4, extra=1.0, mta_tax=0.5, tip_amount=3.28, tolls_amount=0.0, improvement_surcharge=1.0, total_amount=19.68, congestion_surcharge=2.5, airport_fee=0.0),\n",
       " Row(VendorID=2, tpep_pickup_datetime=datetime.datetime(2023, 1, 1, 0, 50, 34), tpep_dropoff_datetime=datetime.datetime(2023, 1, 1, 1, 2, 52), passenger_count=1.0, trip_distance=1.84, RatecodeID=1.0, store_and_fwd_flag='N', PULocationID=161, DOLocationID=137, payment_type=1, fare_amount=12.8, extra=1.0, mta_tax=0.5, tip_amount=10.0, tolls_amount=0.0, improvement_surcharge=1.0, total_amount=27.8, congestion_surcharge=2.5, airport_fee=0.0)]"
      ]
     },
     "execution_count": 13,
     "metadata": {},
     "output_type": "execute_result"
    }
   ],
   "source": [
    "result.collect()[:5]"
   ]
  },
  {
   "cell_type": "code",
   "execution_count": 9,
   "id": "4c95542b-b3f9-4b06-b7f6-1a76591214d8",
   "metadata": {
    "tags": []
   },
   "outputs": [
    {
     "name": "stdout",
     "output_type": "stream",
     "text": [
      "+---------------+-------+\n",
      "|passenger_count|  count|\n",
      "+---------------+-------+\n",
      "|            1.0|2261400|\n",
      "|            2.0| 451536|\n",
      "|            3.0| 106353|\n",
      "|           null|  71743|\n",
      "|            4.0|  53745|\n",
      "|            0.0|  51164|\n",
      "|            5.0|  42681|\n",
      "|            6.0|  28124|\n",
      "|            8.0|     13|\n",
      "|            7.0|      6|\n",
      "|            9.0|      1|\n",
      "+---------------+-------+\n",
      "\n"
     ]
    }
   ],
   "source": [
    "taxi_df.groupby(taxi_df.passenger_count) \\\n",
    "    .count() \\\n",
    "    .orderBy(col(\"count\").desc()) \\\n",
    "    .show()"
   ]
  },
  {
   "cell_type": "code",
   "execution_count": null,
   "id": "f124222d-83db-463e-affa-b8805aad6bf4",
   "metadata": {},
   "outputs": [],
   "source": []
  },
  {
   "cell_type": "code",
   "execution_count": null,
   "id": "248bf301-b881-40de-aac0-b89e07cff138",
   "metadata": {},
   "outputs": [],
   "source": []
  },
  {
   "cell_type": "code",
   "execution_count": 3,
   "id": "181b764a-621f-4947-a322-d89536c9d6f1",
   "metadata": {
    "tags": []
   },
   "outputs": [],
   "source": [
    "spark.stop()"
   ]
  },
  {
   "cell_type": "code",
   "execution_count": null,
   "id": "9d5eea24-983d-4ad9-81cc-67527fe28142",
   "metadata": {},
   "outputs": [],
   "source": [
    "spark = (\n",
    "    SparkSession\n",
    "      .builder\n",
    "      .appName(\"Yarn Increase Heap\")\n",
    "      .master(\"yarn\")\n",
    "      .config(\"spark.yarn.am.memoryOverhead\", 384)\n",
    "      .config(\"spark.executor.instances\", 3)\n",
    "      .config(\"spark.executor.cores\", 4)\n",
    "      .config(\"spark.executor.memory\", \"2g\")\n",
    "      .config(\"spark.memory.storrageFraction\", \"0.1\")\n",
    "      .config(\"spark.executor.extraJavaOptions\", \"-XX:NewSize=950M -XX:+PrintGCDetails -XX:+PrintGCTimeStamps\")\n",
    "      .getOrCreate()\n",
    ")"
   ]
  },
  {
   "cell_type": "code",
   "execution_count": null,
   "id": "8c5703f4-98df-44d9-a5ea-a41a42df7f14",
   "metadata": {},
   "outputs": [],
   "source": []
  }
 ],
 "metadata": {
  "kernelspec": {
   "display_name": "Python 3 (ipykernel)",
   "language": "python",
   "name": "python3"
  },
  "language_info": {
   "codemirror_mode": {
    "name": "ipython",
    "version": 3
   },
   "file_extension": ".py",
   "mimetype": "text/x-python",
   "name": "python",
   "nbconvert_exporter": "python",
   "pygments_lexer": "ipython3",
   "version": "3.10.8"
  }
 },
 "nbformat": 4,
 "nbformat_minor": 5
}
