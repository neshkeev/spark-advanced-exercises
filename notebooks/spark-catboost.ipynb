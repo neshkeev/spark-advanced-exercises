{
 "cells": [
  {
   "cell_type": "markdown",
   "id": "4a760ef7",
   "metadata": {},
   "source": [
    "## Использование Spark для обучения и вывода на модели CatBoost "
   ]
  },
  {
   "cell_type": "code",
   "execution_count": null,
   "id": "c72f0ad0",
   "metadata": {},
   "outputs": [],
   "source": [
    "import os\n",
    "os.environ['PYSPARK_SUBMIT_ARGS'] = '--packages ai.catboost:catboost-spark_3.3_2.12:1.1.1 pyspark-shell'"
   ]
  },
  {
   "cell_type": "code",
   "execution_count": null,
   "id": "c85ef3dc",
   "metadata": {},
   "outputs": [],
   "source": [
    "import pyspark\n",
    "from pyspark.sql import SparkSession"
   ]
  },
  {
   "cell_type": "code",
   "execution_count": null,
   "id": "b125748f",
   "metadata": {},
   "outputs": [],
   "source": [
    "spark = (\n",
    "    SparkSession\n",
    "        .builder\n",
    "        .appName(\"Spark Catboost\")\n",
    "        .master(\"local[4]\")\n",
    "        .getOrCreate()\n",
    ")\n",
    "\n",
    "sc = spark.sparkContext"
   ]
  },
  {
   "cell_type": "code",
   "execution_count": null,
   "id": "773e8729",
   "metadata": {},
   "outputs": [],
   "source": [
    "import catboost_spark"
   ]
  },
  {
   "cell_type": "markdown",
   "id": "acbbef56",
   "metadata": {},
   "source": [
    "## Набор данных для CatBoost \n",
    "объект Pool содержит строки со столбцами:\n",
    "- features - вектор признаков\n",
    "- label - целевая переменная\n",
    "- cat_features - список категориальных признаков\n",
    "\n",
    "и еще много разных полезных настроек\n",
    "https://catboost.ai/en/docs/concepts/python-reference_pool"
   ]
  },
  {
   "cell_type": "code",
   "execution_count": null,
   "id": "bc792cc5-9656-4846-bc93-d163130e9e13",
   "metadata": {},
   "outputs": [],
   "source": [
    "from pyspark.sql import Row,SparkSession\n",
    "from pyspark.ml.linalg import Vectors, VectorUDT\n",
    "from pyspark.sql.types import *"
   ]
  },
  {
   "cell_type": "code",
   "execution_count": null,
   "id": "7b39cfa7-698b-4ada-92e7-8964e798ba2d",
   "metadata": {},
   "outputs": [],
   "source": [
    "srcDataSchema = [\n",
    "    StructField(\"features\", VectorUDT()),\n",
    "    StructField(\"label\", StringType())\n",
    "]"
   ]
  },
  {
   "cell_type": "code",
   "execution_count": null,
   "id": "5d674f22",
   "metadata": {},
   "outputs": [],
   "source": [
    "# набор данных для обучения\n",
    "trainData = [\n",
    "    Row(Vectors.dense(0.1, 0.2, 0.11), \"0\"),\n",
    "    Row(Vectors.dense(0.97, 0.82, 0.33), \"1\"),\n",
    "    Row(Vectors.dense(0.13, 0.22, 0.23), \"1\"),\n",
    "    Row(Vectors.dense(0.8, 0.62, 0.0), \"0\")\n",
    "]\n",
    "\n",
    "trainDf = (\n",
    "    spark.createDataFrame(\n",
    "        sc.parallelize(trainData),\n",
    "        StructType(srcDataSchema))\n",
    ")\n",
    "trainPool = catboost_spark.Pool(trainDf)"
   ]
  },
  {
   "cell_type": "code",
   "execution_count": null,
   "id": "79173194",
   "metadata": {},
   "outputs": [],
   "source": [
    "# тестовый набор данных\n",
    "evalData = [\n",
    "    Row(Vectors.dense(0.22, 0.33, 0.9), \"1\"),\n",
    "    Row(Vectors.dense(0.11, 0.1, 0.21), \"0\"),\n",
    "    Row(Vectors.dense(0.77, 0.0, 0.0), \"1\")\n",
    "]\n",
    "    \n",
    "evalDf = spark.createDataFrame(spark.sparkContext.parallelize(evalData), StructType(srcDataSchema))\n",
    "evalPool = catboost_spark.Pool(evalDf)"
   ]
  },
  {
   "cell_type": "markdown",
   "id": "37c4ae50",
   "metadata": {},
   "source": [
    "## Обучение классификатора"
   ]
  },
  {
   "cell_type": "code",
   "execution_count": null,
   "id": "b37eef65",
   "metadata": {},
   "outputs": [],
   "source": [
    "classifier = catboost_spark.CatBoostClassifier()"
   ]
  },
  {
   "cell_type": "code",
   "execution_count": null,
   "id": "5816fc20-a19f-4417-a80b-a9e345194ad5",
   "metadata": {},
   "outputs": [],
   "source": [
    "# обучение модел\n",
    "model = classifier.fit(trainPool)"
   ]
  },
  {
   "cell_type": "code",
   "execution_count": null,
   "id": "bb3469a1",
   "metadata": {},
   "outputs": [],
   "source": [
    "# получение предсказаний\n",
    "predictions = model.transform(evalPool.data)\n",
    "predictions.show()"
   ]
  },
  {
   "cell_type": "code",
   "execution_count": null,
   "id": "213c70ed",
   "metadata": {},
   "outputs": [],
   "source": [
    "# save the model\n",
    "savedModelPath = \"/tmp/binclass_model\"\n",
    "model.write().save(savedModelPath)"
   ]
  },
  {
   "cell_type": "code",
   "execution_count": null,
   "id": "cb06becd",
   "metadata": {},
   "outputs": [],
   "source": [
    "# save the model as a local file in CatBoost native format\n",
    "savedNativeModelPath = '/tmp/binclass_model.cbm'\n",
    "model.saveNativeModel(savedNativeModelPath)"
   ]
  },
  {
   "cell_type": "markdown",
   "id": "16e7544c",
   "metadata": {},
   "source": [
    "## Вывод на заранее обученой и сохраненной модели \n",
    "1. Создать (и указать, из какого файла брать данные модели) объект класса CatBoostClassificationModel\n",
    "2. При вызове .transform будет создан Spark Job и выполнен на кластере, параллельно выполняя вывод\n",
    "\n",
    "Можно проверить через Spark UI (:4040)"
   ]
  },
  {
   "cell_type": "code",
   "execution_count": null,
   "id": "a550a94a",
   "metadata": {},
   "outputs": [],
   "source": [
    "# load the model (can be used in a different Spark session)\n",
    "\n",
    "loadedModel = catboost_spark.CatBoostClassificationModel.load(savedModelPath)\n",
    "\n",
    "predictionsFromLoadedModel = loadedModel.transform(evalPool.data)\n",
    "predictionsFromLoadedModel.show()"
   ]
  },
  {
   "cell_type": "code",
   "execution_count": null,
   "id": "c1d96a6d",
   "metadata": {},
   "outputs": [],
   "source": [
    "# load the model as a local file in CatBoost native format\n",
    "\n",
    "loadedNativeModel = catboost_spark.CatBoostClassificationModel.loadNativeModel(savedNativeModelPath)\n",
    "\n",
    "predictionsFromLoadedNativeModel = loadedNativeModel.transform(evalPool.data)\n",
    "predictionsFromLoadedNativeModel.show()"
   ]
  },
  {
   "cell_type": "markdown",
   "id": "92bd44db",
   "metadata": {},
   "source": [
    "## Явный перебор классифицируемых объектов на Spark RDD\n",
    "1. Импортировать catboost (без _spark)\n",
    "2. Создать CatBoostClassifier\n",
    "3. Загрузить в него сохраненную модель\n",
    "4. Создать из данных для классификации rdd методом parallelize\n",
    "5. Вызвать model.predict для каждой строки rdd методом map\n",
    "6. Запустить Job любым способом "
   ]
  },
  {
   "cell_type": "code",
   "execution_count": null,
   "id": "6e0e183e-0b6b-4c8d-9b9f-f63ef5376744",
   "metadata": {},
   "outputs": [],
   "source": [
    "import catboost"
   ]
  },
  {
   "cell_type": "code",
   "execution_count": null,
   "id": "d539771b",
   "metadata": {},
   "outputs": [],
   "source": [
    "model = catboost.CatBoostClassifier()\n",
    "model.load_model(savedNativeModelPath)"
   ]
  },
  {
   "cell_type": "code",
   "execution_count": null,
   "id": "ba465b61-0d6f-40f7-bb3f-f859b1337e60",
   "metadata": {},
   "outputs": [],
   "source": [
    "testData = [[0.22, 0.33, 0.9],[0.11, 0.1, 0.21],[0.77, 0.0, 0.0]]\n",
    "\n",
    "test_rdd = spark.sparkContext.parallelize(testData)\n",
    "results_rdd = test_rdd.map(lambda x: model.predict(x))\n",
    "results = results_rdd.collect()\n",
    "print(results)"
   ]
  }
 ],
 "metadata": {
  "kernelspec": {
   "display_name": "Python 3 (ipykernel)",
   "language": "python",
   "name": "python3"
  },
  "language_info": {
   "codemirror_mode": {
    "name": "ipython",
    "version": 3
   },
   "file_extension": ".py",
   "mimetype": "text/x-python",
   "name": "python",
   "nbconvert_exporter": "python",
   "pygments_lexer": "ipython3",
   "version": "3.10.5"
  }
 },
 "nbformat": 4,
 "nbformat_minor": 5
}
