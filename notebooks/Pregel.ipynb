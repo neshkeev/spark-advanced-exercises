{
 "cells": [
  {
   "cell_type": "code",
   "execution_count": 1,
   "id": "a8b635df-f6b1-45c1-a4d5-9a425fa413f5",
   "metadata": {
    "tags": []
   },
   "outputs": [],
   "source": [
    "import sys\n",
    "\n",
    "from pyspark.sql import SparkSession, Window\n",
    "from pyspark.sql.functions import col\n",
    "from pyspark.sql import functions as F"
   ]
  },
  {
   "cell_type": "code",
   "execution_count": 2,
   "id": "114619c1-0a1e-4007-b97b-fa14ed538821",
   "metadata": {
    "tags": []
   },
   "outputs": [],
   "source": [
    "spark = (\n",
    "    SparkSession\n",
    "        .builder\n",
    "        .appName(\"Pregel\")\n",
    "        .master(\"local[4]\")\n",
    "        .getOrCreate()\n",
    ")"
   ]
  },
  {
   "cell_type": "markdown",
   "id": "9e533f51-a9be-42ee-b180-e0ebe365af43",
   "metadata": {
    "tags": []
   },
   "source": [
    "## Компоненты связности графа"
   ]
  },
  {
   "cell_type": "code",
   "execution_count": null,
   "id": "30bdb960-67ce-4e07-ad92-d8269a817f50",
   "metadata": {
    "tags": []
   },
   "outputs": [],
   "source": [
    "verties = [ (x, x) for x in range(1, 7) ]\n",
    "verties_df = (\n",
    "    spark\n",
    "        .createDataFrame(verties)\n",
    "        .toDF(\"id\", \"value\")\n",
    ")"
   ]
  },
  {
   "cell_type": "code",
   "execution_count": null,
   "id": "94395953-2f8e-4441-9b2d-78d59b0062b6",
   "metadata": {
    "tags": []
   },
   "outputs": [],
   "source": [
    "edges = [ (1, 2), (1,3), (2, 3), (3, 4), (4,5), (6, 6) ]\n",
    "edges_df = (\n",
    "    spark\n",
    "        .createDataFrame(edges)\n",
    "        .toDF(\"src\", \"dst\")\n",
    ")"
   ]
  },
  {
   "cell_type": "code",
   "execution_count": null,
   "id": "279a8692-2877-4eba-869f-65db3a76dbd8",
   "metadata": {
    "tags": []
   },
   "outputs": [],
   "source": [
    "for _ in range(5):\n",
    "    verties_df = (\n",
    "        edges_df.join(verties_df, col(\"src\") == col(\"id\"))\n",
    "          .select(col(\"dst\").alias(\"id\"), col(\"value\"))\n",
    "          .groupby(col(\"id\")).agg(F.min(\"value\").alias(\"message\"))\n",
    "          .join(verties_df, \"id\", \"right\")\n",
    "          .select(\"id\", F.coalesce(\"message\", \"value\").alias(\"message\"), \"value\")\n",
    "          .select(\"id\", F.least(\"message\", \"value\").alias(\"value\"))\n",
    "    )\n",
    "verties_df.show()"
   ]
  },
  {
   "cell_type": "markdown",
   "id": "618bcf86-de33-4e39-8964-bdde915c7513",
   "metadata": {},
   "source": [
    "## Минимальное расстояние"
   ]
  },
  {
   "cell_type": "code",
   "execution_count": null,
   "id": "4477652b-809e-4b0f-8638-828d423c0fb9",
   "metadata": {
    "tags": []
   },
   "outputs": [],
   "source": [
    "start = 1"
   ]
  },
  {
   "cell_type": "code",
   "execution_count": null,
   "id": "bf248cac-d5e7-43fd-9510-609167251969",
   "metadata": {
    "tags": []
   },
   "outputs": [],
   "source": [
    "verties = [ (x, 0 if x == start else sys.maxsize // 2) for x in range(1, 6) ]\n",
    "verties_df = (\n",
    "    spark\n",
    "        .createDataFrame(verties)\n",
    "        .toDF(\"id\", \"value\")\n",
    ")"
   ]
  },
  {
   "cell_type": "code",
   "execution_count": null,
   "id": "18a1fbe5-b231-44f4-bfaa-99d2518e8e6f",
   "metadata": {
    "tags": []
   },
   "outputs": [],
   "source": [
    "edges = [ (1, 2, 1), (1,3, 3), (2, 3, 1), (3, 4, 3), (4,5, 4) ]\n",
    "edges_df = (\n",
    "    spark\n",
    "        .createDataFrame(edges)\n",
    "        .toDF(\"src\", \"dst\", \"weight\")\n",
    ")"
   ]
  },
  {
   "cell_type": "code",
   "execution_count": null,
   "id": "f17d052d-a802-4ba2-a629-2db16f6fdea4",
   "metadata": {
    "tags": []
   },
   "outputs": [],
   "source": [
    "for _ in range(5):\n",
    "    verties_df = (\n",
    "        edges_df\n",
    "            .join(verties_df, col(\"src\") == col(\"id\"))\n",
    "            .select(col(\"dst\").alias(\"id\"), F.expr(\"value + weight\").alias(\"value\"))\n",
    "            .groupby(\"id\").agg(F.min(\"value\").alias(\"message\"))\n",
    "            .join(verties_df, \"id\", \"right\")\n",
    "            .select(\"id\", F.coalesce(\"message\", \"value\").alias(\"message\"), \"value\")\n",
    "            .select(\"id\", F.least(\"message\", \"value\").alias(\"value\"))\n",
    "\n",
    "    )\n",
    "verties_df.show()"
   ]
  },
  {
   "cell_type": "markdown",
   "id": "f5e6a419-8103-4dcb-a9ad-0ecec45465cb",
   "metadata": {},
   "source": [
    "## PageRank"
   ]
  },
  {
   "cell_type": "code",
   "execution_count": 3,
   "id": "76bfd10f-eb34-483f-a505-806de8610dd3",
   "metadata": {
    "tags": []
   },
   "outputs": [],
   "source": [
    "vertices = [ (chr(ord('A') + x), 1) for x in range(11) ]\n",
    "verties_df = (\n",
    "    spark\n",
    "        .createDataFrame(vertices)\n",
    "        .toDF(\"id\", \"value\")\n",
    ")"
   ]
  },
  {
   "cell_type": "code",
   "execution_count": 4,
   "id": "195a13bb-4ea8-48aa-aa6e-6a64d21eaafa",
   "metadata": {
    "tags": []
   },
   "outputs": [],
   "source": [
    "edges = [\n",
    "    ('D', 'A'),\n",
    "    ('D', 'B'), ('E', 'B'), ('F', 'B'), ('C', 'B'), ('G', 'B'), ('H', 'B'), ('I', 'B'),\n",
    "    ('E', 'D'), ('E', 'F'), ('F', 'E'),\n",
    "    ('G', 'E'), ('H', 'E'), ('I', 'E'), ('J', 'E'), ('K', 'E'),\n",
    "    ('B', 'C')\n",
    "]\n",
    "\n",
    "edges_df = (\n",
    "    spark\n",
    "        .createDataFrame(edges)\n",
    "        .toDF(\"src\", \"dst\")\n",
    ")"
   ]
  },
  {
   "cell_type": "code",
   "execution_count": 5,
   "id": "615487cd-b67f-450a-ba98-e6e5c3d3915e",
   "metadata": {
    "tags": []
   },
   "outputs": [],
   "source": [
    "verties_df1 = verties_df"
   ]
  },
  {
   "cell_type": "code",
   "execution_count": 156,
   "id": "b191a363-1b63-4464-ac6e-818592e60835",
   "metadata": {
    "tags": []
   },
   "outputs": [
    {
     "name": "stdout",
     "output_type": "stream",
     "text": [
      "+---+------------------+\n",
      "| id|             value|\n",
      "+---+------------------+\n",
      "|  J|1.0000000000000000|\n",
      "|  B|6.1000000000000000|\n",
      "|  H|0.5000000000000000|\n",
      "|  I|0.5000000000000000|\n",
      "|  F|0.5000000000000000|\n",
      "|  K|1.0000000000000000|\n",
      "|  C|1.0000000000000000|\n",
      "|  D|0.5000000000000000|\n",
      "|  E|1.7500000000000000|\n",
      "|  G|0.5000000000000000|\n",
      "+---+------------------+\n",
      "\n"
     ]
    }
   ],
   "source": [
    "verties_df1 = (\n",
    "    edges_df\n",
    "        .join(verties_df, col(\"src\") == col(\"id\"))\n",
    "        .select(col(\"dst\").alias(\"id\"), col(\"value\"))\n",
    "        .groupby(\"id\").agg(F.sum(col(\"value\")).alias(\"message\"))\n",
    "        .join(verties_df, \"id\", \"right\")\n",
    "        .select(\"id\", F.coalesce(\"message\", \"value\").alias(\"message\"), \"value\")\n",
    "        .join(edges_df, col(\"id\") == col(\"src\"), \"right\")\n",
    "        .groupby(\"id\", \"message\", \"value\").count()\n",
    "        .select(\"id\", F.expr(\"(0.15 + 0.85 * message) / count\").alias(\"value\"))\n",
    ")\n",
    "verties_df1.show()"
   ]
  },
  {
   "cell_type": "code",
   "execution_count": 8,
   "id": "4b14f9e6-7a12-449d-bc45-9e9ef49e04b4",
   "metadata": {
    "tags": []
   },
   "outputs": [],
   "source": [
    "spark.sparkContext.setCheckpointDir(\"plan/checkpoint\")\n",
    "for _ in range(10):\n",
    "    verties_df1 = (\n",
    "        edges_df\n",
    "            .join(verties_df1, col(\"src\") == col(\"id\"))\n",
    "            .select(col(\"dst\").alias(\"id\"), col(\"value\"))\n",
    "            .groupby(\"id\").agg(F.sum(col(\"value\")).alias(\"message\"))\n",
    "            .join(verties_df1, \"id\", \"right\")\n",
    "            .select(\"id\", F.coalesce(\"message\", \"value\").alias(\"message\"), \"value\")\n",
    "            .join(edges_df, col(\"id\") == col(\"src\"), \"right\")\n",
    "            .groupby(\"id\", \"message\", \"value\").count()\n",
    "            .select(\"id\", F.expr(\"(0.15 + 0.85 * message) / count\").alias(\"value\"))\n",
    "    ).checkpoint()"
   ]
  },
  {
   "cell_type": "code",
   "execution_count": 9,
   "id": "f79f47ec-1c25-43f9-b6bc-ba36bf4d67de",
   "metadata": {
    "tags": []
   },
   "outputs": [
    {
     "name": "stdout",
     "output_type": "stream",
     "text": [
      "+---+--------+\n",
      "| id|   value|\n",
      "+---+--------+\n",
      "|  B|7.620551|\n",
      "|  C|6.312955|\n",
      "|  D|0.436815|\n",
      "|  E|0.851311|\n",
      "|  F|0.436815|\n",
      "|  G|0.130438|\n",
      "|  H|0.130438|\n",
      "|  I|0.130438|\n",
      "|  J|1.000000|\n",
      "|  K|1.000000|\n",
      "+---+--------+\n",
      "\n"
     ]
    }
   ],
   "source": [
    "verties_df1.orderBy(\"id\").show()"
   ]
  },
  {
   "cell_type": "code",
   "execution_count": null,
   "id": "05456212-e27f-4a9c-b9c6-23228a0c6d9f",
   "metadata": {},
   "outputs": [],
   "source": []
  }
 ],
 "metadata": {
  "kernelspec": {
   "display_name": "Python 3 (ipykernel)",
   "language": "python",
   "name": "python3"
  },
  "language_info": {
   "codemirror_mode": {
    "name": "ipython",
    "version": 3
   },
   "file_extension": ".py",
   "mimetype": "text/x-python",
   "name": "python",
   "nbconvert_exporter": "python",
   "pygments_lexer": "ipython3",
   "version": "3.10.9"
  }
 },
 "nbformat": 4,
 "nbformat_minor": 5
}
