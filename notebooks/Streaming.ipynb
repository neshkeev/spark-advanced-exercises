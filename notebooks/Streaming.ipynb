{
 "cells": [
  {
   "cell_type": "code",
   "execution_count": null,
   "id": "0fe0adc8-de86-4d20-a9a0-99d15e4860cf",
   "metadata": {},
   "outputs": [],
   "source": [
    "import os\n",
    "os.environ['PYSPARK_SUBMIT_ARGS'] = '--packages org.apache.spark:spark-sql-kafka-0-10_2.12:3.2.1 pyspark-shell'"
   ]
  },
  {
   "cell_type": "code",
   "execution_count": null,
   "id": "b4b60e58-24c8-49df-8b6f-36da06e7f715",
   "metadata": {},
   "outputs": [],
   "source": [
    "from pyspark.sql import SparkSession\n",
    "from pyspark.sql.functions import col\n",
    "from pyspark.sql.types import *\n",
    "from pyspark.sql import functions as F\n",
    "from pyspark.sql.dataframe import DataFrame"
   ]
  },
  {
   "cell_type": "code",
   "execution_count": null,
   "id": "73bd9c73-b05a-4083-bddb-be5d9484301b",
   "metadata": {},
   "outputs": [],
   "source": [
    "spark = (\n",
    "    SparkSession\n",
    "        .builder\n",
    "        .appName(\"Spark Streaming\")\n",
    "        .master(\"local[4]\")\n",
    "        .getOrCreate()\n",
    ")\n",
    "sc = spark.sparkContext"
   ]
  },
  {
   "cell_type": "markdown",
   "id": "cb855bc2-4a3b-44c1-b15d-74c187762246",
   "metadata": {},
   "source": [
    "## Structured Streaming"
   ]
  },
  {
   "cell_type": "code",
   "execution_count": null,
   "id": "d5a342b6-751a-4637-8a7e-71e62ab6b9bc",
   "metadata": {},
   "outputs": [],
   "source": [
    "\"\"\"\n",
    "docker compose exec -it kafka bash\n",
    "kafka-topics.sh --bootstrap-server localhost:9092 --topic words-topic --create --partitions 1 --replication-factor 1\n",
    "kafka-console-producer.sh --bootstrap-server localhost:9092 --topic words-topic <<<$(yes 'Hello, World!' | head -n 20)\n",
    "\"\"\"\n",
    "\n",
    "input_table = spark \\\n",
    "    .readStream \\\n",
    "    .format(\"kafka\") \\\n",
    "    .option(\"kafka.bootstrap.servers\", \"kafka:9092\") \\\n",
    "    .option(\"startingOffsets\", \"earliest\") \\\n",
    "    .option(\"subscribe\", \"words-topic\") \\\n",
    "    .load()"
   ]
  },
  {
   "cell_type": "code",
   "execution_count": null,
   "id": "4bf9c0d8-f3d2-4b1a-add3-52927555d22b",
   "metadata": {},
   "outputs": [],
   "source": [
    "result_table_lines = (\n",
    "    input_table.select(col(\"value\").cast(\"string\"))\n",
    ")"
   ]
  },
  {
   "cell_type": "code",
   "execution_count": null,
   "id": "1fa40b6c-b920-417b-b23d-674a23f1f056",
   "metadata": {},
   "outputs": [],
   "source": [
    "output_lines = (\n",
    "    result_table_lines.writeStream\n",
    "        .format(\"parquet\")\n",
    "        .option(\"path\", \"/tmp/wordcount\")\n",
    "        .option(\"checkpointLocation\", \"/tmp/wordcount_checkpoint\")\n",
    "    )"
   ]
  },
  {
   "cell_type": "code",
   "execution_count": null,
   "id": "7194d176-9020-4d2e-a696-0aaf5d11e4ed",
   "metadata": {},
   "outputs": [],
   "source": [
    "query_lines = output_lines.start()"
   ]
  },
  {
   "cell_type": "code",
   "execution_count": null,
   "id": "5f2bc96d-8bc0-48ac-ae67-98a7f26e1410",
   "metadata": {},
   "outputs": [],
   "source": [
    "! find /tmp/wordcount_checkpoint/"
   ]
  },
  {
   "cell_type": "code",
   "execution_count": null,
   "id": "4b73031f-e4cc-4835-9ddc-fb8fa7e2bfe1",
   "metadata": {},
   "outputs": [],
   "source": [
    "spark.read.parquet(\"/tmp/wordcount\").distinct().show()"
   ]
  },
  {
   "cell_type": "code",
   "execution_count": null,
   "id": "3952ff7c-cd21-4d0b-b933-9d6b9c6e4db6",
   "metadata": {},
   "outputs": [],
   "source": [
    "query_lines.awaitTermination(timeout=5)\n",
    "query_lines.stop()"
   ]
  },
  {
   "cell_type": "code",
   "execution_count": null,
   "id": "831cdfff-2370-4886-b57f-55b4504961ed",
   "metadata": {},
   "outputs": [],
   "source": []
  },
  {
   "cell_type": "code",
   "execution_count": null,
   "id": "e29fbaad-465f-4735-817d-07aba0fd5cf2",
   "metadata": {},
   "outputs": [],
   "source": []
  },
  {
   "cell_type": "code",
   "execution_count": null,
   "id": "fc2541f1-83c9-4242-bdf8-08133e58fceb",
   "metadata": {},
   "outputs": [],
   "source": []
  },
  {
   "cell_type": "code",
   "execution_count": null,
   "id": "c5930847-4751-474a-a680-d90f65a7af62",
   "metadata": {},
   "outputs": [],
   "source": [
    "result_table_words_agg = (\n",
    "    result_table_lines\n",
    "        .select(F.split(\"value\", \" \").alias(\"words\"))\n",
    "        .select(F.explode(\"words\").alias(\"word\"))\n",
    "        .groupby(\"word\").count()\n",
    ")"
   ]
  },
  {
   "cell_type": "code",
   "execution_count": null,
   "id": "92722372-7ad4-4043-8ce1-a58783a8c420",
   "metadata": {},
   "outputs": [],
   "source": [
    "def foreach_batch_function(df: DataFrame, epoch_id):\n",
    "    df.cache()\n",
    "    df.write.mode(\"overwrite\").parquet(\"/tmp/foreach_batch1\")\n",
    "    df.write.mode(\"overwrite\").parquet(\"/tmp/foreach_batch2\")\n",
    "    df.unpersist()"
   ]
  },
  {
   "cell_type": "code",
   "execution_count": null,
   "id": "ffbdd58a-baf7-403e-84aa-94f90c3119d3",
   "metadata": {},
   "outputs": [],
   "source": [
    "output_words_count = (\n",
    "    result_table_words_agg.writeStream\n",
    "        .option(\"checkpointLocation\", \"/tmp/wordcount_checkpoint_1\")\n",
    "        .outputMode(\"complete\")\n",
    "        .foreachBatch(foreach_batch_function)\n",
    "    )"
   ]
  },
  {
   "cell_type": "code",
   "execution_count": null,
   "id": "f9156c7c-81f4-4431-99c1-71668710cda3",
   "metadata": {},
   "outputs": [],
   "source": [
    "query_wc = output_words_count.start()"
   ]
  },
  {
   "cell_type": "code",
   "execution_count": null,
   "id": "957cc20d-d04d-448c-b048-a28eff63fc52",
   "metadata": {},
   "outputs": [],
   "source": [
    "spark.read.parquet(\"/tmp/foreach_batch1\").show()"
   ]
  },
  {
   "cell_type": "code",
   "execution_count": null,
   "id": "7c1062c2-364e-4f91-ab83-8e155cf9495b",
   "metadata": {},
   "outputs": [],
   "source": [
    "spark.read.parquet(\"/tmp/foreach_batch2\").show()"
   ]
  },
  {
   "cell_type": "code",
   "execution_count": null,
   "id": "66b7ee33-2b9f-462b-b6e7-25359c4ec194",
   "metadata": {},
   "outputs": [],
   "source": [
    "query_wc.awaitTermination(timeout=5)\n",
    "query_wc.stop()"
   ]
  },
  {
   "cell_type": "markdown",
   "id": "1d7dee9b-e5cf-4e13-9001-c61021f2dc0e",
   "metadata": {},
   "source": [
    "### Создание таблицы на базе стрима"
   ]
  },
  {
   "cell_type": "code",
   "execution_count": null,
   "id": "58fc454a-9519-42f6-98b4-bd72d47a0957",
   "metadata": {},
   "outputs": [],
   "source": [
    "save_to_table_query = result_table_lines.writeStream \\\n",
    "    .option(\"checkpointLocation\", \"/tmp/save_to_table_checkpoint\") \\\n",
    "    .toTable(\"input\")"
   ]
  },
  {
   "cell_type": "code",
   "execution_count": null,
   "id": "2594cfb3-6c73-4817-86d0-162777f07c43",
   "metadata": {},
   "outputs": [],
   "source": [
    "spark.table(\"input\").show()"
   ]
  },
  {
   "cell_type": "code",
   "execution_count": null,
   "id": "4042ca78-97d5-42dd-869f-6ef4c9d299e0",
   "metadata": {},
   "outputs": [],
   "source": [
    "spark.sql(\"DROP TABLE input\")"
   ]
  },
  {
   "cell_type": "code",
   "execution_count": null,
   "id": "87feab35-1d4b-446c-962c-a17f130c1fd1",
   "metadata": {},
   "outputs": [],
   "source": [
    "ave_to_table_query = (\n",
    "    result_table_words_agg\n",
    "        .writeStream\n",
    "        .outputMode(\"update\")\n",
    "        .option(\"checkpointLocation\", \"/tmp/save_to_table_checkpoint_input_agg\")\n",
    "        .foreachBatch(foreach_batch_function)\n",
    "        .start()\n",
    ")\n",
    "ave_to_table_query\n",
    "spark.read.parquet(\"/tmp/foreach_batch1\").show()\n",
    "spark.read.parquet(\"/tmp/foreach_batch2\").show()"
   ]
  },
  {
   "cell_type": "code",
   "execution_count": null,
   "id": "5fc06ac9-e4eb-43a0-aedf-bad3426f1b0b",
   "metadata": {},
   "outputs": [],
   "source": [
    "ave_to_table_query.awaitTermination(timeout=5)\n",
    "ave_to_table_query.stop()"
   ]
  },
  {
   "cell_type": "markdown",
   "id": "93e6d913-e16a-4563-8352-2e5936b59576",
   "metadata": {},
   "source": [
    "## Watermarking"
   ]
  },
  {
   "cell_type": "code",
   "execution_count": null,
   "id": "e014f615-e00c-43c3-ae4d-e13ab80b59c3",
   "metadata": {},
   "outputs": [],
   "source": [
    "input_table = (\n",
    "    input_table\n",
    "    .withColumn(\n",
    "        \"value\",\n",
    "        col(\"value\")\n",
    "            .cast(\"string\")\n",
    "            .alias(\"value\")\n",
    "    )\n",
    "    .drop(\"key\")\n",
    ")\n",
    "input_table.printSchema()"
   ]
  },
  {
   "cell_type": "code",
   "execution_count": null,
   "id": "00013b4d-6bc0-4b38-8292-3dd0b0cf9b96",
   "metadata": {},
   "outputs": [],
   "source": [
    "result_table_watermark = (\n",
    "    input_table.withWatermark(\"timestamp\", \"5 minutes\")\n",
    "    .withColumn(\"words\", F.split(\"value\", \" \"))\n",
    "    .withColumn(\"word\", F.explode(\"words\"))\n",
    "    .drop(\"words\").drop(\"value\")\n",
    ")\n",
    "result_table_watermark.printSchema()"
   ]
  },
  {
   "cell_type": "code",
   "execution_count": null,
   "id": "f23f1590-b06a-41f3-ad66-472b62c6f43d",
   "metadata": {},
   "outputs": [],
   "source": [
    "output_agg = (\n",
    "    result_table_watermark\n",
    "    .writeStream.option(\"checkpointLocation\", \"/tmp/watermark_checkpoint\")\n",
    "    .toTable(\"watermark_table\")\n",
    ")"
   ]
  },
  {
   "cell_type": "code",
   "execution_count": null,
   "id": "7aa1c0b0-25fb-4857-839b-34e452f7b76d",
   "metadata": {},
   "outputs": [],
   "source": [
    "spark.table(\"watermark_table\").show()"
   ]
  },
  {
   "cell_type": "code",
   "execution_count": null,
   "id": "16cca5a3-e9db-4a42-bdd4-23f9d0e0bcc2",
   "metadata": {},
   "outputs": [],
   "source": [
    "output_agg.awaitTermination(timeout=5)\n",
    "output_agg.stop()"
   ]
  },
  {
   "cell_type": "markdown",
   "id": "7420af95-7500-47bc-a096-629088c08055",
   "metadata": {},
   "source": [
    "## Непрерывная обработка (Continuous Processing)"
   ]
  },
  {
   "cell_type": "markdown",
   "id": "350a0185-28a4-4c09-955a-aa2d22fc70b2",
   "metadata": {},
   "source": [
    "Continuous Processing является экспериментальной функцией, которая позволяет записывать данные в Kafka с гарантией доставки at-least-once"
   ]
  },
  {
   "cell_type": "code",
   "execution_count": null,
   "id": "1852dedc-c9de-4d03-b91d-8536325465d1",
   "metadata": {},
   "outputs": [],
   "source": [
    "output = (\n",
    "    input_table\n",
    "    .select(col(\"value\").cast(\"string\").alias(\"value\"))\n",
    "    .select(F.expr(\"value || '_out'\").alias('value'))\n",
    "    .writeStream\n",
    "    .format(\"kafka\")\n",
    "    .option(\"kafka.bootstrap.servers\", \"kafka:9092\")\n",
    "    .option(\"topic\", \"input-topic\")\n",
    "    .option(\"checkpointLocation\", \"/tmp/continuous\")\n",
    "    .trigger(continuous='1 second')\n",
    ")"
   ]
  },
  {
   "cell_type": "code",
   "execution_count": null,
   "id": "6ade4fe4-7744-4885-8a02-e899fe319a00",
   "metadata": {},
   "outputs": [],
   "source": [
    "query = output.start()"
   ]
  },
  {
   "cell_type": "code",
   "execution_count": null,
   "id": "31ccb3f3-546f-4dbf-a97a-977e15c851bf",
   "metadata": {},
   "outputs": [],
   "source": [
    "query.awaitTermination(timeout=5)\n",
    "query.stop()"
   ]
  },
  {
   "cell_type": "markdown",
   "id": "cb495614-43b8-43f0-a193-c065c31846f0",
   "metadata": {
    "jp-MarkdownHeadingCollapsed": true,
    "tags": []
   },
   "source": [
    "# Почему важно работать с колонками"
   ]
  },
  {
   "cell_type": "code",
   "execution_count": null,
   "id": "0a65d0cd-63a3-4131-a0d5-8ccf3a52889e",
   "metadata": {},
   "outputs": [],
   "source": [
    "import pandas as pd"
   ]
  },
  {
   "cell_type": "code",
   "execution_count": null,
   "id": "cac4f738-46c4-420a-b648-5d40208190da",
   "metadata": {},
   "outputs": [],
   "source": [
    "spark.conf.set(\"spark.sql.execution.arrow.pyspark.enabled\", True)"
   ]
  },
  {
   "cell_type": "code",
   "execution_count": null,
   "id": "4c58120b-1c3f-4c85-842e-a1cfe7a032e7",
   "metadata": {},
   "outputs": [],
   "source": [
    "@F.pandas_udf(\"long\")\n",
    "def timesTwo(value: pd.Series) -> pd.Series:\n",
    "    return value * 2"
   ]
  },
  {
   "cell_type": "code",
   "execution_count": null,
   "id": "eb23aa87-0c41-4b52-a345-a6efe7a58187",
   "metadata": {},
   "outputs": [],
   "source": [
    "table_df = spark.table(\"watermark_table\")"
   ]
  },
  {
   "cell_type": "code",
   "execution_count": null,
   "id": "bf7b13ce-1e35-4390-8061-f75f38bbc52e",
   "metadata": {},
   "outputs": [],
   "source": [
    "df_from_udf = (\n",
    "    table_df.withColumn(\"double_offset\", timesTwo(col(\"offset\")))\n",
    ")\n",
    "#e = df_from_udf.collect()"
   ]
  },
  {
   "cell_type": "code",
   "execution_count": null,
   "id": "f20ec8d9-ee2a-4b7e-857e-7554d277d44f",
   "metadata": {},
   "outputs": [],
   "source": [
    "df_from_udf.explain()"
   ]
  },
  {
   "cell_type": "code",
   "execution_count": null,
   "id": "0bf6bbf6-b558-47a3-8d74-4c81460f534a",
   "metadata": {},
   "outputs": [],
   "source": [
    "df_no_udf = (\n",
    "    table_df.withColumn(\"double_offset\", col(\"offset\") * 2)\n",
    ")\n",
    "# e = df_no_udf.collect()"
   ]
  },
  {
   "cell_type": "code",
   "execution_count": null,
   "id": "b3f06d3b-d491-4037-a0e4-cf97050c6511",
   "metadata": {},
   "outputs": [],
   "source": [
    "df_no_udf.explain()"
   ]
  },
  {
   "cell_type": "code",
   "execution_count": null,
   "id": "0edb5016-8583-4991-8f2f-51ab45d16dc4",
   "metadata": {},
   "outputs": [],
   "source": []
  }
 ],
 "metadata": {
  "kernelspec": {
   "display_name": "Python 3 (ipykernel)",
   "language": "python",
   "name": "python3"
  },
  "language_info": {
   "codemirror_mode": {
    "name": "ipython",
    "version": 3
   },
   "file_extension": ".py",
   "mimetype": "text/x-python",
   "name": "python",
   "nbconvert_exporter": "python",
   "pygments_lexer": "ipython3",
   "version": "3.10.5"
  }
 },
 "nbformat": 4,
 "nbformat_minor": 5
}
