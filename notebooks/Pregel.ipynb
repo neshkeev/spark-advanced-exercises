{
 "cells": [
  {
   "cell_type": "code",
   "execution_count": null,
   "id": "cff09354-ce47-4034-b1b4-4229be764b24",
   "metadata": {},
   "outputs": [],
   "source": [
    "import os\n",
    "os.environ['PYSPARK_SUBMIT_ARGS'] = '--packages graphframes:graphframes:0.8.2-spark3.2-s_2.12 pyspark-shell'"
   ]
  },
  {
   "cell_type": "code",
   "execution_count": null,
   "id": "a8b635df-f6b1-45c1-a4d5-9a425fa413f5",
   "metadata": {
    "tags": []
   },
   "outputs": [],
   "source": [
    "import sys\n",
    "\n",
    "from pyspark.sql import SparkSession, Window\n",
    "from pyspark.sql.functions import col\n",
    "from pyspark.sql import functions as F\n",
    "from pyspark.sql.dataframe import DataFrame, Column\n",
    "\n",
    "from typing import Callable, Tuple"
   ]
  },
  {
   "cell_type": "code",
   "execution_count": null,
   "id": "114619c1-0a1e-4007-b97b-fa14ed538821",
   "metadata": {
    "tags": []
   },
   "outputs": [],
   "source": [
    "spark = (\n",
    "    SparkSession\n",
    "        .builder\n",
    "        .appName(\"Pregel\")\n",
    "        .master(\"local[4]\")\n",
    "        .getOrCreate()\n",
    ")\n",
    "sc = spark.sparkContext"
   ]
  },
  {
   "cell_type": "markdown",
   "id": "4a4c821a-21d6-4b87-b3b9-1da15ac3eacf",
   "metadata": {
    "tags": []
   },
   "source": [
    "# Pregel"
   ]
  },
  {
   "cell_type": "code",
   "execution_count": null,
   "id": "e4d1edcc-f823-4ddc-b9ae-c199c4f57aa4",
   "metadata": {},
   "outputs": [],
   "source": [
    "def enrich_deg(vertices: DataFrame, edges: DataFrame):\n",
    "    out_deg = (\n",
    "        vertices\n",
    "            .join(edges, col(\"id\") == col(\"src\"))\n",
    "            .groupby(\"id\").count()\n",
    "            .withColumn(\"out_deg\", col(\"count\"))\n",
    "            .drop(\"count\")\n",
    "        ).cache()\n",
    "\n",
    "    in_deg = (\n",
    "        vertices\n",
    "            .join(edges, col(\"id\") == col(\"dst\"))\n",
    "            .groupby(\"id\").count()\n",
    "            .withColumn(\"in_deg\", col(\"count\"))\n",
    "            .drop(\"count\")\n",
    "        ).cache()\n",
    "\n",
    "    return (\n",
    "        vertices\n",
    "            .join(out_deg, \"id\", \"left\")\n",
    "                .withColumn(\"out_deg\", F.coalesce(\"out_deg\", F.lit(0)))\n",
    "            .join(in_deg, \"id\", \"left\")\n",
    "                .withColumn(\"in_deg\", F.coalesce(\"in_deg\", F.lit(0)))\n",
    "            .orderBy(\"id\")\n",
    "        ).cache()"
   ]
  },
  {
   "cell_type": "markdown",
   "id": "9e533f51-a9be-42ee-b180-e0ebe365af43",
   "metadata": {
    "tags": []
   },
   "source": [
    "## Компоненты связности графа"
   ]
  },
  {
   "cell_type": "markdown",
   "id": "cf9645b2-61d6-43fb-9e54-ed155cb1cb3b",
   "metadata": {},
   "source": [
    "![graph](./imgs/graphs-connected-components.drawio.svg)"
   ]
  },
  {
   "cell_type": "code",
   "execution_count": null,
   "id": "5e114a57-20ae-49bb-bf00-af86d61c418b",
   "metadata": {},
   "outputs": [],
   "source": [
    "def connected_components_graph() -> Tuple[DataFrame, DataFrame]:\n",
    "    verties = [ (x, x) for x in range(1, 7) ]\n",
    "    verties_df = (\n",
    "        spark\n",
    "            .createDataFrame(verties)\n",
    "            .toDF(\"id\", \"value\")\n",
    "    )\n",
    "    edges = [ (1, 2), (1,3), (2, 3), (3, 4), (4,5), (6, 6) ]\n",
    "    edges_df = (\n",
    "        spark\n",
    "            .createDataFrame(edges)\n",
    "            .toDF(\"src\", \"dst\")\n",
    "    )\n",
    "    return enrich_deg(verties_df, edges_df), edges_df"
   ]
  },
  {
   "cell_type": "code",
   "execution_count": null,
   "id": "30bdb960-67ce-4e07-ad92-d8269a817f50",
   "metadata": {
    "tags": []
   },
   "outputs": [],
   "source": [
    "verties_df, edges_df = connected_components_graph()"
   ]
  },
  {
   "cell_type": "code",
   "execution_count": null,
   "id": "279a8692-2877-4eba-869f-65db3a76dbd8",
   "metadata": {
    "tags": []
   },
   "outputs": [],
   "source": [
    "for _ in range(5):\n",
    "    verties_df = (\n",
    "        edges_df.join(verties_df, col(\"src\") == col(\"id\"))\n",
    "          .select(col(\"dst\").alias(\"id\"), col(\"value\"))\n",
    "          .groupby(col(\"id\")).agg(F.min(\"value\").alias(\"message\"))\n",
    "          .join(verties_df, \"id\", \"right\")\n",
    "          .select(\"id\", F.coalesce(\"message\", \"value\").alias(\"message\"), \"value\")\n",
    "          .select(\"id\", F.least(\"message\", \"value\").alias(\"value\"))\n",
    "    )\n",
    "verties_df.show()"
   ]
  },
  {
   "cell_type": "markdown",
   "id": "618bcf86-de33-4e39-8964-bdde915c7513",
   "metadata": {},
   "source": [
    "## Минимальное расстояние"
   ]
  },
  {
   "cell_type": "markdown",
   "id": "3df0a9f0-ce02-4b2e-abee-409077b41032",
   "metadata": {},
   "source": [
    "![graph](./imgs/graphs-min-dist.drawio.svg)"
   ]
  },
  {
   "cell_type": "code",
   "execution_count": null,
   "id": "41201142-7674-4747-987a-9b1c6352ed62",
   "metadata": {},
   "outputs": [],
   "source": [
    "def min_dist_graph(start: int) -> Tuple[DataFrame, DataFrame]:\n",
    "    verties = [ (x, 0 if x == start else sys.maxsize // 2) for x in range(1, 6) ]\n",
    "    verties_df = (\n",
    "        spark\n",
    "            .createDataFrame(verties)\n",
    "            .toDF(\"id\", \"value\")\n",
    "    )\n",
    "    edges = [ (1, 2, 1), (1, 3, 3), (2, 3, 1), (3, 4, 3), (4, 5, 4) ]\n",
    "    edges_df = (\n",
    "        spark\n",
    "            .createDataFrame(edges)\n",
    "            .toDF(\"src\", \"dst\", \"weight\")\n",
    "    )\n",
    "    return enrich_deg(verties_df, edges_df), edges_df"
   ]
  },
  {
   "cell_type": "code",
   "execution_count": null,
   "id": "4477652b-809e-4b0f-8638-828d423c0fb9",
   "metadata": {
    "tags": []
   },
   "outputs": [],
   "source": [
    "verties_df, edges_df = min_dist_graph(start = 1)"
   ]
  },
  {
   "cell_type": "code",
   "execution_count": null,
   "id": "f17d052d-a802-4ba2-a629-2db16f6fdea4",
   "metadata": {
    "tags": []
   },
   "outputs": [],
   "source": [
    "for _ in range(5):\n",
    "    verties_df = (\n",
    "        edges_df\n",
    "            .join(verties_df, col(\"src\") == col(\"id\"))\n",
    "            .select(col(\"dst\").alias(\"id\"), F.expr(\"value + weight\").alias(\"value\"))\n",
    "            .groupby(\"id\").agg(F.min(\"value\").alias(\"message\"))\n",
    "            .join(verties_df, \"id\", \"right\")\n",
    "            .select(\"id\", F.coalesce(\"message\", \"value\").alias(\"message\"), \"value\")\n",
    "            .select(\"id\", F.least(\"message\", \"value\").alias(\"value\"))\n",
    "    )\n",
    "verties_df.show()"
   ]
  },
  {
   "cell_type": "markdown",
   "id": "f5e6a419-8103-4dcb-a9ad-0ecec45465cb",
   "metadata": {},
   "source": [
    "## PageRank"
   ]
  },
  {
   "cell_type": "markdown",
   "id": "11a252f6-af4a-4105-b1a0-0f36313e42c6",
   "metadata": {},
   "source": [
    "![graph](./imgs/graphs-page-rank.png)"
   ]
  },
  {
   "cell_type": "code",
   "execution_count": null,
   "id": "a71ddfa4-e953-4e76-90e9-0e8317b8e7a7",
   "metadata": {},
   "outputs": [],
   "source": [
    "def pagerank_graph() -> Tuple[DataFrame, DataFrame]:\n",
    "    vertices = [ (chr(ord('A') + x), 1) for x in range(11) ]\n",
    "    verties_df = (\n",
    "        spark\n",
    "            .createDataFrame(vertices)\n",
    "            .toDF(\"id\", \"value\")\n",
    "    )\n",
    "\n",
    "    edges = [\n",
    "        ('D', 'A'),\n",
    "        ('D', 'B'), ('E', 'B'), ('F', 'B'), ('C', 'B'), ('G', 'B'), ('H', 'B'), ('I', 'B'),\n",
    "        ('E', 'D'), ('E', 'F'), ('F', 'E'),\n",
    "        ('G', 'E'), ('H', 'E'), ('I', 'E'), ('J', 'E'), ('K', 'E'),\n",
    "        ('B', 'C')\n",
    "    ]\n",
    "    edges_df = (\n",
    "        spark\n",
    "            .createDataFrame(edges)\n",
    "            .toDF(\"src\", \"dst\")\n",
    "    )\n",
    "    \n",
    "    return enrich_deg(verties_df, edges_df), edges_df"
   ]
  },
  {
   "cell_type": "code",
   "execution_count": null,
   "id": "76bfd10f-eb34-483f-a505-806de8610dd3",
   "metadata": {
    "tags": []
   },
   "outputs": [],
   "source": [
    "verties_df, edges_df = pagerank_graph()"
   ]
  },
  {
   "cell_type": "code",
   "execution_count": null,
   "id": "615487cd-b67f-450a-ba98-e6e5c3d3915e",
   "metadata": {
    "tags": []
   },
   "outputs": [],
   "source": [
    "verties_df1 = verties_df"
   ]
  },
  {
   "cell_type": "code",
   "execution_count": null,
   "id": "b191a363-1b63-4464-ac6e-818592e60835",
   "metadata": {
    "tags": []
   },
   "outputs": [],
   "source": [
    "out_deg_col = F.when(col(\"out_deg\") == 0, 1).otherwise(col(\"out_deg\")).alias(\"out_deg\")\n",
    "verties_df1 = (\n",
    "        edges_df\n",
    "            .join(verties_df, col(\"src\") == col(\"id\"))\n",
    "            .select(col(\"dst\").alias(\"id\"), col(\"value\"))\n",
    "            .groupby(\"id\").agg(F.sum(col(\"value\")).alias(\"message\"))\n",
    "            .join(verties_df, \"id\", \"right\")\n",
    "            .select(\"id\", out_deg_col, F.coalesce(\"message\", \"value\").alias(\"message\"), \"value\")\n",
    "            .select(\"id\", F.expr(\"(0.15 + 0.85 * message) / out_deg\").alias(\"value\"))\n",
    "    )\n",
    "\n",
    "verties_df1.show()"
   ]
  },
  {
   "cell_type": "code",
   "execution_count": null,
   "id": "4b14f9e6-7a12-449d-bc45-9e9ef49e04b4",
   "metadata": {
    "tags": []
   },
   "outputs": [],
   "source": [
    "spark.sparkContext.setCheckpointDir(\"plan/checkpoint\")\n",
    "\n",
    "for _ in range(10):\n",
    "    verties_df = (\n",
    "        edges_df\n",
    "            .join(verties_df, col(\"src\") == col(\"id\"))\n",
    "            .select(col(\"dst\").alias(\"id\"), col(\"value\"))\n",
    "            .groupby(\"id\").agg(F.sum(col(\"value\")).alias(\"message\"))\n",
    "            .join(verties_df, \"id\", \"right\")\n",
    "            .select(\"id\", out_deg_col, F.coalesce(\"message\", \"value\").alias(\"message\"), \"value\")\n",
    "            .select(\"id\", out_deg_col, F.expr(\"(0.15 + 0.85 * message) / out_deg\").alias(\"value\"))\n",
    "    ).checkpoint()"
   ]
  },
  {
   "cell_type": "code",
   "execution_count": null,
   "id": "f79f47ec-1c25-43f9-b6bc-ba36bf4d67de",
   "metadata": {
    "tags": []
   },
   "outputs": [],
   "source": [
    "verties_df.orderBy(\"id\").show()"
   ]
  },
  {
   "cell_type": "markdown",
   "id": "3fbadb95-0182-464e-a386-b7f261b53f15",
   "metadata": {},
   "source": [
    "## Алгоритм параллельной обработки графов Прегель (Pregel)"
   ]
  },
  {
   "cell_type": "code",
   "execution_count": null,
   "id": "808080b1-adaa-4a1d-90b8-5a12b72e2e9e",
   "metadata": {},
   "outputs": [],
   "source": [
    "def pregel_superstep(vertices: DataFrame, edges: DataFrame, message: Column, message_merger: Callable[Column, Column], value: Column):\n",
    "    out_deg_col = (\n",
    "        F.when(\n",
    "            col(\"out_deg\") == 0,\n",
    "            1\n",
    "        )\n",
    "        .otherwise(col(\"out_deg\"))\n",
    "    ).alias(\"out_deg\")\n",
    "\n",
    "    return (\n",
    "        edges\n",
    "            .join(vertices, col(\"src\") == col(\"id\"))\n",
    "            .select(col(\"dst\").alias(\"id\"), message.alias(\"value\"))\n",
    "            .groupby(\"id\").agg(message_merger(col(\"value\")).alias(\"message\"))\n",
    "            .join(vertices, \"id\", \"right\")\n",
    "            .select(\"id\", out_deg_col, F.coalesce(\"message\", \"value\").alias(\"message\"), \"value\")\n",
    "            .select(\"id\", out_deg_col, value.alias(\"value\"))\n",
    "    )"
   ]
  },
  {
   "cell_type": "markdown",
   "id": "d4a47a82-cd3b-43fa-ba8e-204365f11e98",
   "metadata": {},
   "source": [
    "### Компоненты связности"
   ]
  },
  {
   "cell_type": "code",
   "execution_count": null,
   "id": "ce0d3cee-2b1a-4af2-999c-f0badc3c826c",
   "metadata": {},
   "outputs": [],
   "source": [
    "verties_df, edges_df = connected_components_graph()"
   ]
  },
  {
   "cell_type": "code",
   "execution_count": null,
   "id": "da7d2a82-ad9d-4e57-a049-39833f5a679c",
   "metadata": {},
   "outputs": [],
   "source": [
    "for _ in range(5):\n",
    "    verties_df = pregel_superstep(\n",
    "        verties_df,\n",
    "        edges_df,\n",
    "        col(\"value\"),\n",
    "        F.min,\n",
    "        F.least(\"message\", \"value\")\n",
    "    )"
   ]
  },
  {
   "cell_type": "code",
   "execution_count": null,
   "id": "5be88756-2e35-4ce5-8744-cd2966bf81fe",
   "metadata": {},
   "outputs": [],
   "source": [
    "verties_df.show()"
   ]
  },
  {
   "cell_type": "markdown",
   "id": "6184cac9-1788-4cb7-baa5-f6e1e91ecdca",
   "metadata": {},
   "source": [
    "### Минимальное расстояние"
   ]
  },
  {
   "cell_type": "code",
   "execution_count": null,
   "id": "bd9b5a5a-9f57-47a6-84a7-98c973cfec4c",
   "metadata": {},
   "outputs": [],
   "source": [
    "verties_df, edges_df = min_dist_graph(start = 1)"
   ]
  },
  {
   "cell_type": "code",
   "execution_count": null,
   "id": "ce0585ac-9f77-4ed9-9f77-e28e69984742",
   "metadata": {},
   "outputs": [],
   "source": [
    "for _ in range(5):\n",
    "    verties_df = pregel_superstep(\n",
    "        verties_df,\n",
    "        edges_df,\n",
    "        F.expr(\"value + weight\"),\n",
    "        F.min,\n",
    "        F.least(\"message\", \"value\")\n",
    "    )"
   ]
  },
  {
   "cell_type": "code",
   "execution_count": null,
   "id": "8fe77e28-7208-4c14-9141-f7d297b7f7e7",
   "metadata": {},
   "outputs": [],
   "source": [
    "verties_df.show()"
   ]
  },
  {
   "cell_type": "markdown",
   "id": "2c3092ff-6977-45e3-a8b3-470810df8ca5",
   "metadata": {},
   "source": [
    "### PageRank"
   ]
  },
  {
   "cell_type": "code",
   "execution_count": null,
   "id": "a4b69a78-0a8e-4b8a-8449-d36c61c36868",
   "metadata": {},
   "outputs": [],
   "source": [
    "verties_df, edges_df = pagerank_graph()"
   ]
  },
  {
   "cell_type": "code",
   "execution_count": null,
   "id": "1ef32f4d-d585-4c8a-bd15-58fcc10fd7b6",
   "metadata": {},
   "outputs": [],
   "source": [
    "for _ in range(10):\n",
    "    verties_df = pregel_superstep(\n",
    "        verties_df,\n",
    "        edges_df,\n",
    "        col(\"value\"),\n",
    "        F.sum,\n",
    "        F.expr(\"(0.15 + 0.85 * message) / out_deg\")\n",
    "    ).checkpoint()"
   ]
  },
  {
   "cell_type": "code",
   "execution_count": null,
   "id": "d70ba9f5-12f6-4f1f-b71c-f0c4955444ca",
   "metadata": {},
   "outputs": [],
   "source": [
    "verties_df.orderBy(\"id\").show()"
   ]
  },
  {
   "cell_type": "markdown",
   "id": "c974ce20-c515-49a4-b9a4-a08067f82c02",
   "metadata": {},
   "source": [
    "## Домашнее задание"
   ]
  },
  {
   "cell_type": "markdown",
   "id": "d0b046d6-e7d0-492b-bf8f-697357b8b1fe",
   "metadata": {},
   "source": [
    "1. Реализовать сумму вершин графа при помощи `pregel_superstep`. По окончанию алгоритма все вершины графа должны иметь одно значение, которое будет являться суммой всех вершин графа. Игнорировать графы, в которых существуют несвязные подграфы\n",
    "1. Реализовать алгоритм поиска максимального значения при помощи `pregel_superstep`. По окончанию алгоритма все вершины графа должны иметь одно значение, которое будет являться максимальным значением среди всех значений вершин графа. Игнорировать графы, в которых существуют несвязные подграфы"
   ]
  },
  {
   "cell_type": "markdown",
   "id": "aa6ad8b9-9f61-4f75-991b-22024970e954",
   "metadata": {},
   "source": [
    "# GraphFrames"
   ]
  },
  {
   "cell_type": "markdown",
   "id": "be096ba0-c49a-4c11-8868-7b60e429ed8e",
   "metadata": {},
   "source": [
    "## Создание GraphFrame"
   ]
  },
  {
   "cell_type": "markdown",
   "id": "1e27ae3e-1a69-43f3-a645-3ab392a6d0c2",
   "metadata": {},
   "source": [
    "Пользователи могут создавать GraphFrames из двух датафреймов: вершины (vertex) и ребра (edge).\n",
    "\n",
    "- датафрейм с вершинами должен иметь колонку по имени `id`, которая является уникальным ID для каждой вершины в графе\n",
    "- датафрейм с ребрами должен содержать две колонки `src` - id исходной вершины, `dst` - id конечной вершины\n",
    "\n",
    "Оба датафрейма могут содержать произвольное количество дополнительных колонок.\n"
   ]
  },
  {
   "cell_type": "code",
   "execution_count": null,
   "id": "130b52f0-eeee-4119-b101-f6aefe5c6342",
   "metadata": {},
   "outputs": [],
   "source": [
    "from functools import reduce\n",
    "\n",
    "from graphframes import *\n",
    "from graphframes.lib import Pregel"
   ]
  },
  {
   "cell_type": "code",
   "execution_count": null,
   "id": "1ecb55a1-8eeb-4863-993c-4797c8d29571",
   "metadata": {},
   "outputs": [],
   "source": [
    "vertices = (\n",
    "    spark.createDataFrame([\n",
    "      (\"a\", \"Alice\", 34),\n",
    "      (\"b\", \"Bob\", 36),\n",
    "      (\"c\", \"Charlie\", 30),\n",
    "      (\"d\", \"David\", 29),\n",
    "      (\"e\", \"Esther\", 32),\n",
    "      (\"f\", \"Fanny\", 36),\n",
    "      (\"g\", \"Gabby\", 60)\n",
    "    ])\n",
    "    .toDF(\"id\", \"name\", \"age\")\n",
    ")"
   ]
  },
  {
   "cell_type": "code",
   "execution_count": null,
   "id": "96ac3e4f-a50f-46b5-8ddf-b42f3c3213e9",
   "metadata": {},
   "outputs": [],
   "source": [
    "edges = (\n",
    "    spark.createDataFrame([\n",
    "      (\"a\", \"b\", \"friend\"),\n",
    "      (\"b\", \"c\", \"follow\"),\n",
    "      (\"c\", \"b\", \"follow\"),\n",
    "      (\"f\", \"c\", \"follow\"),\n",
    "      (\"e\", \"f\", \"follow\"),\n",
    "      (\"e\", \"d\", \"friend\"),\n",
    "      (\"d\", \"a\", \"friend\"),\n",
    "      (\"a\", \"e\", \"friend\")\n",
    "    ])\n",
    "    .toDF(\"src\", \"dst\", \"relationship\")\n",
    ")"
   ]
  },
  {
   "cell_type": "code",
   "execution_count": null,
   "id": "3badd4bb-72b1-40bb-86d0-c4c7d7af6262",
   "metadata": {},
   "outputs": [],
   "source": [
    "g = GraphFrame(vertices, edges)"
   ]
  },
  {
   "cell_type": "markdown",
   "id": "4785fef4-3108-4239-883e-758e8b234e80",
   "metadata": {},
   "source": [
    "## Основные запросы"
   ]
  },
  {
   "cell_type": "code",
   "execution_count": null,
   "id": "9c7d448a-de77-4e24-9777-886115cdc2b6",
   "metadata": {},
   "outputs": [],
   "source": [
    "g.inDegrees.show()"
   ]
  },
  {
   "cell_type": "code",
   "execution_count": null,
   "id": "48c8e1c5-11a8-41fd-b8d0-4ab1add1484b",
   "metadata": {},
   "outputs": [],
   "source": [
    "g.outDegrees.show()"
   ]
  },
  {
   "cell_type": "code",
   "execution_count": null,
   "id": "4b7e153e-703a-4686-aa16-1cf5dd5f8e92",
   "metadata": {},
   "outputs": [],
   "source": [
    "g.degrees.show()"
   ]
  },
  {
   "cell_type": "markdown",
   "id": "9c5aff92-1e5b-47f3-96bf-2d144007af23",
   "metadata": {},
   "source": [
    "Можно выполнять запросы напрямую на ребрах графа:"
   ]
  },
  {
   "cell_type": "code",
   "execution_count": null,
   "id": "a9cdbb8e-fc12-49ba-b286-e548cee02af9",
   "metadata": {},
   "outputs": [],
   "source": [
    "g.edges.filter(\"relationship = 'follow'\").count()"
   ]
  },
  {
   "cell_type": "markdown",
   "id": "6bd6c2bf-3693-4aab-a714-d72bf9df1f30",
   "metadata": {},
   "source": [
    "или на вершинах"
   ]
  },
  {
   "cell_type": "code",
   "execution_count": null,
   "id": "1aada321-e189-4a35-9eb0-3d9810863516",
   "metadata": {},
   "outputs": [],
   "source": [
    "g.vertices.groupBy().min(\"age\").show()"
   ]
  },
  {
   "cell_type": "markdown",
   "id": "b5d9e954-e914-4112-aa84-6601f7dd9f8b",
   "metadata": {},
   "source": [
    "## Язык запросов Motif"
   ]
  },
  {
   "cell_type": "markdown",
   "id": "1b65f0a3-5c17-4afe-ab28-b25a9a5ec43f",
   "metadata": {},
   "source": [
    "Motif позволяет строить сложные запросы по связям между вершинами и ребрами. Например, можно получить пары вершин, которые имеют двунаправленные ребра между ними:"
   ]
  },
  {
   "cell_type": "code",
   "execution_count": null,
   "id": "6de5c864-331b-4c12-af93-609849503afd",
   "metadata": {},
   "outputs": [],
   "source": [
    "motifs = g.find(\"(a)-[e]->(b); (b)-[e2]->(a)\")"
   ]
  },
  {
   "cell_type": "markdown",
   "id": "b44101bf-d43b-47ec-9ba1-442df20ab89e",
   "metadata": {},
   "source": [
    "Результатом вычисления является новый DataFrame, в котором имена колонок совпадают по именам ключей из motif запроса:"
   ]
  },
  {
   "cell_type": "code",
   "execution_count": null,
   "id": "5570f5ff-723e-4ef3-b092-d254cc846deb",
   "metadata": {},
   "outputs": [],
   "source": [
    "type(motifs)"
   ]
  },
  {
   "cell_type": "code",
   "execution_count": null,
   "id": "a0da54fb-ed13-44e9-99be-33a525d05a56",
   "metadata": {},
   "outputs": [],
   "source": [
    "motifs.printSchema()"
   ]
  },
  {
   "cell_type": "code",
   "execution_count": null,
   "id": "fe4518bf-b24a-4618-9e17-d43f91569a99",
   "metadata": {},
   "outputs": [],
   "source": [
    "motifs.show()"
   ]
  },
  {
   "cell_type": "markdown",
   "id": "f7f3bbf9-5232-40fb-a4eb-05f3322ee84b",
   "metadata": {},
   "source": [
    "Получив в результате применения motif-запроса датафрем, можно использовать все операции, доступные DataFrame. Например, можно получить связи, в которых один возраст человека в одной из вершин больше 30 лет:"
   ]
  },
  {
   "cell_type": "code",
   "execution_count": null,
   "id": "b1ab423e-ef5f-4910-bf11-ef8ebceff125",
   "metadata": {},
   "outputs": [],
   "source": [
    "motifs.filter(\"b.age > 30 or a.age > 30\").show()"
   ]
  },
  {
   "cell_type": "markdown",
   "id": "2e3084b4-cbc9-4344-8718-fd1d9104ce4f",
   "metadata": {},
   "source": [
    "### Запросы с сохранением состояния (stateful)"
   ]
  },
  {
   "cell_type": "markdown",
   "id": "957279fa-44bc-4d46-9fbc-164e13a63ea1",
   "metadata": {},
   "source": [
    "Большинство motif-запросов выполняются без сохранения состояния (stateless), которые можно легко выразить при помощи примеров выше. Следующий пример демонстрирует более сложные запросы, которые переносят состояния по путям в motif-запросах. Такие запросы могут быть выражены при помощи комбинации motif-запросов из GraphFrame и фильтров примененных к результирующему DataFrame.\n",
    "\n",
    "Например, необходимо получить четыре вершины, с некоторым свойством, которое определяется последовательностью функций. Так, по цепочке четырех вершин `a->b->c->d` необходимо получить подмножество цепочек, которые отвечают условиям фильтра:\n",
    "\n",
    "Инициализировать состояние\n",
    "Обновить состояние на базе значения из вершины `a`\n",
    "Обновить состояние на базе значения из вершины `b`\n",
    "Обновить состояние на базе значения из вершины `c`, `d`, и т.д.\n",
    "\n",
    "Если конечное состояние проходит проверку по условию, тогда такая цепочка пропускается. Ниже приведен пример кода, который демонстрирует этот процесс: выделяются цепочка из четырех вершин, у которых как минимум два ребра из трех имеют значение `\"friend\"`:"
   ]
  },
  {
   "cell_type": "code",
   "execution_count": null,
   "id": "fef21bad-2816-4a7c-84a7-07b855ac3522",
   "metadata": {},
   "outputs": [],
   "source": [
    "chain4 = g.find(\"(a)-[ab]->(b); (b)-[bc]->(c); (c)-[cd]->(d)\")"
   ]
  },
  {
   "cell_type": "code",
   "execution_count": null,
   "id": "7b04e0a1-dcfc-4eb6-ae84-3fdd9d4b3c5f",
   "metadata": {},
   "outputs": [],
   "source": [
    "def accumulateFriends(cnt, edge):\n",
    "    relationship = col(edge)[\"relationship\"]\n",
    "    return F.when(relationship == \"friend\", cnt + 1).otherwise(cnt)"
   ]
  },
  {
   "cell_type": "code",
   "execution_count": null,
   "id": "9f988169-f358-499b-bd87-006deb9d234b",
   "metadata": {},
   "outputs": [],
   "source": [
    "edges = [\"ab\", \"bc\", \"cd\"]\n",
    "numFriends = reduce(accumulateFriends, edges, F.lit(0))"
   ]
  },
  {
   "cell_type": "code",
   "execution_count": null,
   "id": "5bc71d10-2222-4dff-afbf-271981ddcc1d",
   "metadata": {},
   "outputs": [],
   "source": [
    "chainWith2Friends2 = (\n",
    "    chain4.withColumn(\"num_friends\", numFriends)\n",
    "        .where(numFriends >= 2)\n",
    ")\n",
    "chainWith2Friends2.show()"
   ]
  },
  {
   "cell_type": "markdown",
   "id": "74198f78-4163-46b1-abfb-0af69d93d07b",
   "metadata": {},
   "source": [
    "## Подграфы"
   ]
  },
  {
   "cell_type": "markdown",
   "id": "956a2b9b-7dfb-44df-b434-7e11b5352e84",
   "metadata": {},
   "source": [
    "GraphFrames предлагает API для построяния подграфов через фильтрацию вершин и ребрер. Эти фильтры могут быть объеденены, например, следующий подграф содержит только людей, которые:\n",
    "\n",
    "- старше 30 лет\n",
    "- имеют друзей, которые так же старше 30"
   ]
  },
  {
   "cell_type": "code",
   "execution_count": null,
   "id": "cb910ea7-e68a-4309-83e4-a6bbf3b8d890",
   "metadata": {},
   "outputs": [],
   "source": [
    "g2 = (\n",
    "    g.filterEdges(\"relationship = 'friend'\")\n",
    "    .filterVertices(\"age > 30\")\n",
    "    .dropIsolatedVertices()\n",
    ")"
   ]
  },
  {
   "cell_type": "code",
   "execution_count": null,
   "id": "4845b3d4-c18a-4d40-9470-e747f4432dfa",
   "metadata": {},
   "outputs": [],
   "source": [
    "g2.vertices.show()"
   ]
  },
  {
   "cell_type": "code",
   "execution_count": null,
   "id": "f45cb6e3-5077-4abf-9f6f-08b862886c63",
   "metadata": {},
   "outputs": [],
   "source": [
    "g2.edges.show()"
   ]
  },
  {
   "cell_type": "markdown",
   "id": "f35f8e79-b070-4a92-a9de-f9ae6d7e88f4",
   "metadata": {},
   "source": [
    "## Стандартные алгоритмы на графах"
   ]
  },
  {
   "cell_type": "markdown",
   "id": "5198ff3c-5a2c-42de-82cf-1f5ade0d987a",
   "metadata": {},
   "source": [
    "GraphFrames предлагает готовые алгоритмы стандартной для обработки графов:\n",
    "\n",
    "- Поиск в ширину (Breadth-first search (BFS))\n",
    "- Связные компоненты (Connected components)\n",
    "- Строго связные компоненты (Strongly connected components)\n",
    "- Алгоритм распространения меток (Label Propagation Algorithm (LPA))\n",
    "- PageRank\n",
    "- Кратчайщий путь (Shortest paths)\n",
    "- Количество треугольников (Triangle count)"
   ]
  },
  {
   "cell_type": "code",
   "execution_count": null,
   "id": "d5e93868-a365-4b7b-8033-07de50af31d0",
   "metadata": {},
   "outputs": [],
   "source": [
    "paths = g.bfs(\"name = 'Esther'\", \"age < 32\")\n",
    "paths.show()"
   ]
  },
  {
   "cell_type": "markdown",
   "id": "4877ab34-ce13-405e-a5c0-fa02daea7a1d",
   "metadata": {},
   "source": [
    "можно применить фильтр только к началу или концу ребра:"
   ]
  },
  {
   "cell_type": "code",
   "execution_count": null,
   "id": "a756b012-1f35-45bd-9845-a4e3ddd1343c",
   "metadata": {},
   "outputs": [],
   "source": [
    "filteredPaths = g.bfs(\n",
    "  fromExpr = \"name = 'Esther'\",\n",
    "  toExpr = \"age < 32\",\n",
    "  edgeFilter = \"relationship != 'friend'\",\n",
    "  maxPathLength = 3)\n",
    "\n",
    "filteredPaths.show()"
   ]
  },
  {
   "cell_type": "code",
   "execution_count": null,
   "id": "94215320-c403-49b7-acfd-30bc4e6b37c5",
   "metadata": {},
   "outputs": [],
   "source": [
    "sc.setCheckpointDir(\"/tmp/graphframes-example-connected-components\")\n",
    "\n",
    "result = g.connectedComponents()"
   ]
  },
  {
   "cell_type": "code",
   "execution_count": null,
   "id": "0c04be3f-5f99-44f7-9594-6f2ff2cc1bf9",
   "metadata": {},
   "outputs": [],
   "source": [
    "result.show()"
   ]
  },
  {
   "cell_type": "code",
   "execution_count": null,
   "id": "7aee35bf-aa2a-43f2-8e00-31edb0c7e5d9",
   "metadata": {},
   "outputs": [],
   "source": [
    "result = g.stronglyConnectedComponents(maxIter=10)\n",
    "\n",
    "result.select(\"id\", \"component\").show()"
   ]
  },
  {
   "cell_type": "markdown",
   "id": "3ccd35cc-6f83-44c0-b523-ea1d5392e2d5",
   "metadata": {},
   "source": [
    "Распространение меток можно использовать для того, чтобы найти \"сообщества\" в графе.\n",
    "\n",
    "Каждый узел в графе изначально является своим собственным \"сообществом\". На каждом шаге алгоритма (superstep), узлы посылают сообщения своим соседям о том, к какому \"сообществу\" они принадлежат, а также обновляют свою принадлежность к сообществу на базе сообщий, которые были отправлены им их соседями.\n",
    "\n",
    "LPA является стандартным алгоритмом для определения \"сообществ\" в графе. Хотя алгоритм является нетребовательным к ресурсам, но:\n",
    "\n",
    "- Алгоритм не гарантирует, что он сойдется (см. сходимость/расходимость алгоримов)\n",
    "- Алгоритм может остановиться на шаге, когда все вершины графа являются членами своего собственного \"сообщества\""
   ]
  },
  {
   "cell_type": "code",
   "execution_count": null,
   "id": "6553c9f4-0b38-4a93-8f0d-74fac9532496",
   "metadata": {},
   "outputs": [],
   "source": [
    "result = g.labelPropagation(maxIter=5)\n",
    "result.show()"
   ]
  },
  {
   "cell_type": "code",
   "execution_count": null,
   "id": "e6889d2f-f381-4d7f-ad59-5213d2bd6163",
   "metadata": {},
   "outputs": [],
   "source": [
    "results = g.pageRank(resetProbability=0.15, tol=0.01)\n",
    "results.vertices.show()\n",
    "results.edges.show()"
   ]
  },
  {
   "cell_type": "code",
   "execution_count": null,
   "id": "d0c21cbd-a529-46dd-835f-b1086735c40c",
   "metadata": {},
   "outputs": [],
   "source": [
    "# PageRank выполняет фиксированное число шагов\n",
    "results = g.pageRank(resetProbability=0.15, maxIter=10)\n",
    "results.vertices.orderBy(\"id\").show()\n",
    "results.edges.show()"
   ]
  },
  {
   "cell_type": "code",
   "execution_count": null,
   "id": "c5fefc9a-6404-4834-800e-797cfe101432",
   "metadata": {},
   "outputs": [],
   "source": [
    "# Запустить PageRank, конкретно для вершины `a`\n",
    "\n",
    "results = g.pageRank(resetProbability=0.15, maxIter=10, sourceId=\"a\")\n",
    "results.vertices.show()\n",
    "results.edges.show()"
   ]
  },
  {
   "cell_type": "code",
   "execution_count": null,
   "id": "6bc93c6e-fdd7-46ec-8241-9b74196db259",
   "metadata": {},
   "outputs": [],
   "source": [
    "results = g.shortestPaths(landmarks=[\"a\", \"d\"])\n",
    "results.show()"
   ]
  },
  {
   "cell_type": "code",
   "execution_count": null,
   "id": "5a1c7400-d297-4b60-8017-9dd66bcce60d",
   "metadata": {},
   "outputs": [],
   "source": [
    "results = g.triangleCount()\n",
    "results.show()"
   ]
  },
  {
   "cell_type": "code",
   "execution_count": null,
   "id": "66146a3b-815b-4fcf-a5b8-5195cfa7919f",
   "metadata": {},
   "outputs": [],
   "source": [
    "spark.catalog.clearCache()"
   ]
  },
  {
   "cell_type": "markdown",
   "id": "f863f159-8a71-420d-8375-f0f4f74f47cd",
   "metadata": {},
   "source": [
    "## Разработка своих алгоритмов на базе GraphFrames"
   ]
  },
  {
   "cell_type": "markdown",
   "id": "d75e3547-c34a-4ee3-bce1-c229ce95b5ed",
   "metadata": {},
   "source": [
    "Свои алгоритмы можно разрабатывать при помощи [`GraphFrame.pregel`](https://graphframes.github.io/graphframes/docs/_site/api/python/graphframes.html?highlight=pregel#graphframes.GraphFrame.pregel)"
   ]
  },
  {
   "cell_type": "code",
   "execution_count": null,
   "id": "6e995ed7-68c5-4212-80eb-aef8832777ef",
   "metadata": {},
   "outputs": [],
   "source": [
    "alpha = 0.15\n",
    "numVertices = g.vertices.count()\n",
    "\n",
    "initialMsg = F.lit(1.0 / numVertices)\n",
    "afterMsgAgg = F.coalesce(Pregel.msg(), F.lit(0.0)) * F.lit(1.0 - alpha) + F.lit(alpha / numVertices)\n",
    "\n",
    "graph = GraphFrame(g.outDegrees, g.edges)\n",
    "\n",
    "ranks = (\n",
    "    graph.pregel\n",
    "    .setMaxIter(10)\n",
    "    # withVertexColumn создает дополнительную колонку, в которой будет накапливаться результат\n",
    "    .withVertexColumn(\n",
    "        \"rank\", # в этом столбце будет накапливаться PageRank\n",
    "        initialMsg, # начальное значение столбца\n",
    "        afterMsgAgg # механизм обновления столбца\n",
    "    )\n",
    "    # sendMsgToDst определяет как формируется сообщение, которое необходимо отправить каждому соседу (по направлению ребра)\n",
    "    .sendMsgToDst(Pregel.src(\"rank\") / Pregel.src(\"outDegree\"))\n",
    "    # aggMsgs определяет как сообщения будут аггрегироваться для конкретной вершины\n",
    "    .aggMsgs(F.sum(Pregel.msg()))\n",
    ")\n"
   ]
  },
  {
   "cell_type": "code",
   "execution_count": null,
   "id": "826e7db2-cb8c-429b-8205-1981d796e088",
   "metadata": {},
   "outputs": [],
   "source": [
    "g.outDegrees.show()"
   ]
  },
  {
   "cell_type": "code",
   "execution_count": null,
   "id": "aea85a71-332e-4244-af28-04769692664c",
   "metadata": {},
   "outputs": [],
   "source": [
    "result = ranks.run()"
   ]
  },
  {
   "cell_type": "code",
   "execution_count": null,
   "id": "466058c9-815a-4259-9c6f-065894feba9f",
   "metadata": {},
   "outputs": [],
   "source": [
    "result.orderBy(\"id\").show()"
   ]
  },
  {
   "cell_type": "code",
   "execution_count": null,
   "id": "d32cb327-9445-4e23-b580-bf4fae8c59e7",
   "metadata": {},
   "outputs": [],
   "source": []
  }
 ],
 "metadata": {
  "kernelspec": {
   "display_name": "Python 3 (ipykernel)",
   "language": "python",
   "name": "python3"
  },
  "language_info": {
   "codemirror_mode": {
    "name": "ipython",
    "version": 3
   },
   "file_extension": ".py",
   "mimetype": "text/x-python",
   "name": "python",
   "nbconvert_exporter": "python",
   "pygments_lexer": "ipython3",
   "version": "3.10.8"
  }
 },
 "nbformat": 4,
 "nbformat_minor": 5
}
