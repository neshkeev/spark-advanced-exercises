{
 "cells": [
  {
   "cell_type": "markdown",
   "id": "0621aa3f-245e-4784-975e-762cd4cccced",
   "metadata": {},
   "source": [
    "# Bucketing"
   ]
  },
  {
   "cell_type": "markdown",
   "id": "7ad428de-72ba-4739-bcef-2de9c5b5ee13",
   "metadata": {
    "tags": []
   },
   "source": [
    "## Подготовка Данных"
   ]
  },
  {
   "cell_type": "code",
   "execution_count": null,
   "id": "6528a699-ec1f-4f6a-909e-1c5decc4c3b3",
   "metadata": {
    "tags": []
   },
   "outputs": [],
   "source": [
    "from pyspark.sql import SparkSession, Window\n",
    "from pyspark.sql.functions import col, sum, hash, expr\n",
    "from pyspark.sql import functions as F\n",
    "from pyspark.sql.dataframe import DataFrame"
   ]
  },
  {
   "cell_type": "code",
   "execution_count": null,
   "id": "c590a19a-fd61-491e-99c7-74be79de8e28",
   "metadata": {
    "tags": []
   },
   "outputs": [],
   "source": [
    "spark = (\n",
    "  SparkSession\n",
    "    .builder\n",
    "    .appName(\"Bucketing\")\n",
    "    .master(\"local[4]\")\n",
    "    .config(\"spark.sql.sources.bucketing.enabled\", True)\n",
    "    .config(\"spark.sql.autoBroadcastJoinThreshold\", \"-1\")\n",
    "    .config(\"spark.sql.warehouse.dir\", \"/tmp/spark-warehouse\")\n",
    "    .getOrCreate()\n",
    ")\n",
    "\n",
    "sc = spark.sparkContext"
   ]
  },
  {
   "cell_type": "code",
   "execution_count": null,
   "id": "f9d0966c-6257-4fd2-b81a-74b391f715fd",
   "metadata": {
    "tags": []
   },
   "outputs": [],
   "source": [
    "! cd /tmp && rm -rf steam && rm -rf /tmp/spark-warehouse && unzip ~/notebooks/steam.zip && cd -"
   ]
  },
  {
   "cell_type": "code",
   "execution_count": null,
   "id": "c1d4d06e-1218-4e9b-99f6-48349a492757",
   "metadata": {
    "tags": []
   },
   "outputs": [],
   "source": [
    "recomendations_df = spark.read.parquet(\"/tmp/steam/recomendations.parquet\")\n",
    "users_df = spark.read.parquet(\"/tmp/steam/users.parquet\")"
   ]
  },
  {
   "cell_type": "code",
   "execution_count": null,
   "id": "5d95bbc5-82f8-460e-ba33-a11c3e3daf27",
   "metadata": {
    "tags": []
   },
   "outputs": [],
   "source": [
    "users_df.show(5)"
   ]
  },
  {
   "cell_type": "code",
   "execution_count": null,
   "id": "e8656404-f4fe-40d7-85f2-91e987c680f9",
   "metadata": {
    "tags": []
   },
   "outputs": [],
   "source": [
    "recomendations_df.repartition(4).write.mode(\"overwrite\").parquet(\"/tmp/recomendations\")\n",
    "users_df.repartition(4).write.mode(\"overwrite\").parquet(\"/tmp/users\")"
   ]
  },
  {
   "cell_type": "code",
   "execution_count": null,
   "id": "c0dd2dbf-0408-421f-827e-9aea643a9d95",
   "metadata": {
    "tags": []
   },
   "outputs": [],
   "source": [
    "recomendations_df = spark.read.parquet(\"/tmp/recomendations\")\n",
    "users_df = spark.read.parquet(\"/tmp/users\")"
   ]
  },
  {
   "cell_type": "code",
   "execution_count": null,
   "id": "6b59239f-88a7-4dbd-ac0a-eb397fb52131",
   "metadata": {
    "tags": []
   },
   "outputs": [],
   "source": [
    "users_df.join(recomendations_df, \"user_id\").show(5)"
   ]
  },
  {
   "cell_type": "code",
   "execution_count": null,
   "id": "82adeb22-96b3-450c-8b44-4b87d2b5e932",
   "metadata": {
    "tags": []
   },
   "outputs": [],
   "source": [
    "recomendations_df.printSchema()"
   ]
  },
  {
   "cell_type": "code",
   "execution_count": null,
   "id": "2274bca9-f3cd-4f06-8396-6cc2afac4ced",
   "metadata": {
    "tags": []
   },
   "outputs": [],
   "source": [
    "users_df.printSchema()"
   ]
  },
  {
   "cell_type": "markdown",
   "id": "af38ddea-0d69-497b-86e5-eb728a676657",
   "metadata": {
    "tags": []
   },
   "source": [
    "## Подготовка Bucketing"
   ]
  },
  {
   "cell_type": "code",
   "execution_count": null,
   "id": "2941932d-983b-428d-a94c-9f1fa7c7f152",
   "metadata": {
    "tags": []
   },
   "outputs": [],
   "source": [
    "print(f\"Всего пользователей: {users_df.count()}\\nВсего рекомендаций: {recomendations_df.count()}\")"
   ]
  },
  {
   "cell_type": "markdown",
   "id": "e36a8f2b-293b-4e24-b503-2e8ed4e791ac",
   "metadata": {},
   "source": [
    "Проверить в каком бакете окажется значение можно при помощи функции [`pmod`](https://spark.apache.org/docs/3.3.2/sql-ref-functions-builtin.html#mathematical-functions):"
   ]
  },
  {
   "cell_type": "code",
   "execution_count": null,
   "id": "bdca3de1-c304-4c2b-916a-aa83964b4bfe",
   "metadata": {
    "tags": []
   },
   "outputs": [],
   "source": [
    "(\n",
    "  users_df\n",
    "    .limit(10)\n",
    "    .withColumn(\"hash\", hash(col(\"user_id\")))\n",
    "    .withColumn(\"bucket\", expr(\"pmod(hash, 100)\"))\n",
    "    .select(\"user_id\", \"hash\", \"bucket\")\n",
    "    .show()\n",
    ")"
   ]
  },
  {
   "cell_type": "code",
   "execution_count": null,
   "id": "fae356ed-0191-4765-80a5-4c430793da30",
   "metadata": {
    "tags": []
   },
   "outputs": [],
   "source": [
    "def bucketing(df: DataFrame, table_name: str, column: str, buckets: int = 100) -> DataFrame:\n",
    "    (\n",
    "    df.write\n",
    "      .mode(\"overwrite\")\n",
    "      .bucketBy(buckets, column)\n",
    "      .sortBy(column)\n",
    "      .saveAsTable(table_name)\n",
    "    )\n",
    "    return spark.table(table_name)"
   ]
  },
  {
   "cell_type": "code",
   "execution_count": null,
   "id": "b2639bc3-1785-44b9-b21c-afdf3c50be8e",
   "metadata": {
    "tags": []
   },
   "outputs": [],
   "source": [
    "recomendations = bucketing(recomendations_df, \"recomendations\", \"user_id\")\n",
    "users = bucketing(users_df, \"users\", \"user_id\")"
   ]
  },
  {
   "cell_type": "code",
   "execution_count": null,
   "id": "ee21cb27-153f-402c-a81d-920362106e28",
   "metadata": {
    "tags": []
   },
   "outputs": [],
   "source": [
    "spark.sql(\"DESCRIBE EXTENDED users\").show(200, False)"
   ]
  },
  {
   "cell_type": "code",
   "execution_count": null,
   "id": "9209495c-2c63-47c5-b082-65f8a9d9415e",
   "metadata": {
    "tags": []
   },
   "outputs": [],
   "source": [
    "spark.sql(\"DESCRIBE EXTENDED recomendations\").show(200, False)"
   ]
  },
  {
   "cell_type": "markdown",
   "id": "44568994-0880-43b3-bee9-da1ba69595f9",
   "metadata": {
    "jp-MarkdownHeadingCollapsed": true,
    "tags": []
   },
   "source": [
    "## Использование Bucketing"
   ]
  },
  {
   "cell_type": "markdown",
   "id": "587ac929-c44f-4007-a423-5bc934d4d25d",
   "metadata": {},
   "source": [
    "### Исключение партиций"
   ]
  },
  {
   "cell_type": "code",
   "execution_count": null,
   "id": "19258242-b566-4078-a107-1921808610a6",
   "metadata": {},
   "outputs": [],
   "source": [
    "users_df.where(\"user_id == 5693478\").count()"
   ]
  },
  {
   "cell_type": "code",
   "execution_count": null,
   "id": "1a943446-2d88-4212-8b01-ee600131659a",
   "metadata": {},
   "outputs": [],
   "source": [
    "users.where(\"user_id == 5693478\").count()"
   ]
  },
  {
   "cell_type": "code",
   "execution_count": null,
   "id": "5541948b-c2dd-41e3-873f-bb79e1aede7a",
   "metadata": {},
   "outputs": [],
   "source": [
    "users_df.where(\"reviews == 123\").count()"
   ]
  },
  {
   "cell_type": "code",
   "execution_count": null,
   "id": "b3cc5d6d-304c-41b6-a5ed-e8c2056fb00a",
   "metadata": {},
   "outputs": [],
   "source": [
    "users.where(\"reviews == 123\").count()"
   ]
  },
  {
   "cell_type": "markdown",
   "id": "c218736c-201f-48a0-8dcc-ab0be533ef19",
   "metadata": {},
   "source": [
    "### Снижение shuffle операций в join"
   ]
  },
  {
   "cell_type": "markdown",
   "id": "ebcc317d-42ee-4751-b2a8-7e0abdf55861",
   "metadata": {},
   "source": [
    "При объединении датафрейма с таблицей, по полю, по которому таблица разбита на бакеты, shuffle будет присутствовать только на стороне датафрейма:"
   ]
  },
  {
   "cell_type": "code",
   "execution_count": null,
   "id": "03a5660d-40c7-4f53-8dce-e27942f880e8",
   "metadata": {},
   "outputs": [],
   "source": [
    "df = users_df.join(recomendations, \"user_id\")"
   ]
  },
  {
   "cell_type": "code",
   "execution_count": null,
   "id": "2c70678f-cada-46f3-b294-0dd011f707b7",
   "metadata": {},
   "outputs": [],
   "source": [
    "df.explain()"
   ]
  },
  {
   "cell_type": "markdown",
   "id": "bb8245a2-d346-4463-b301-b60971d28ba8",
   "metadata": {},
   "source": [
    "Такой тип объединения/join называется **one-side shuffle-free join**"
   ]
  },
  {
   "cell_type": "code",
   "execution_count": null,
   "id": "1c2e6549-6613-47f3-99ed-b1f1fe95f8a8",
   "metadata": {},
   "outputs": [],
   "source": [
    "df.show(5)"
   ]
  },
  {
   "cell_type": "markdown",
   "id": "c3971fc4-8cbc-42bc-bea6-b331f6a66779",
   "metadata": {},
   "source": [
    "### Join без shuffle"
   ]
  },
  {
   "cell_type": "code",
   "execution_count": null,
   "id": "b60ca208-3db6-4aaa-a2c0-d33cf27f2802",
   "metadata": {},
   "outputs": [],
   "source": [
    "df = users.join(recomendations, \"user_id\")"
   ]
  },
  {
   "cell_type": "code",
   "execution_count": null,
   "id": "0792be51-4fd5-4671-9f7b-926089751cd8",
   "metadata": {},
   "outputs": [],
   "source": [
    "df.explain()"
   ]
  },
  {
   "cell_type": "code",
   "execution_count": null,
   "id": "7e40eb75-4cc2-473d-8603-7f70daaf746c",
   "metadata": {},
   "outputs": [],
   "source": [
    "df.count()"
   ]
  },
  {
   "cell_type": "markdown",
   "id": "0f2fb9d4-bc8c-4242-bc8d-14712762cb9c",
   "metadata": {},
   "source": [
    "Так же можно сразу исключить ненужные бакеты из анализа:"
   ]
  },
  {
   "cell_type": "code",
   "execution_count": null,
   "id": "0a3f030d-32ed-4071-96ed-001f95276909",
   "metadata": {},
   "outputs": [],
   "source": [
    "df = (\n",
    "  users\n",
    "    .join(recomendations, \"user_id\")\n",
    "    .where(col(\"user_id\") == 5693478)\n",
    ")"
   ]
  },
  {
   "cell_type": "code",
   "execution_count": null,
   "id": "85b79b54-d2aa-4197-999f-e522b88a6706",
   "metadata": {},
   "outputs": [],
   "source": [
    "df.explain()"
   ]
  },
  {
   "cell_type": "code",
   "execution_count": null,
   "id": "148f2746-da3b-4bdc-b50a-2adc0b2b5936",
   "metadata": {},
   "outputs": [],
   "source": [
    "e = df.collect()"
   ]
  },
  {
   "cell_type": "code",
   "execution_count": null,
   "id": "6cb81516-1159-4727-a51e-b04b5087da02",
   "metadata": {},
   "outputs": [],
   "source": [
    "e = users_df.join(recomendations_df, \"user_id\").where(col(\"user_id\") == 5693478).collect()"
   ]
  },
  {
   "cell_type": "code",
   "execution_count": null,
   "id": "4680e20f-3c98-4f89-b354-0931dc10e093",
   "metadata": {},
   "outputs": [],
   "source": [
    "df = (\n",
    "  users.hint(\"SHUFFLE_HASH\")\n",
    "    .join(recomendations, \"user_id\")\n",
    "    .where(col(\"user_id\") == 5693478)\n",
    ")\n",
    "df.explain()"
   ]
  },
  {
   "cell_type": "code",
   "execution_count": null,
   "id": "12bf3fc7-dc31-474d-99d5-5187df5b9fe5",
   "metadata": {},
   "outputs": [],
   "source": [
    "df = (\n",
    "  users.hint(\"BROADCAST\")\n",
    "    .join(recomendations, \"user_id\")\n",
    "    .where(col(\"user_id\") == 5693478)\n",
    ")\n",
    "df.explain()"
   ]
  },
  {
   "cell_type": "code",
   "execution_count": null,
   "id": "a3d2107e-ba2c-4087-9ed9-1bdac4f09c29",
   "metadata": {},
   "outputs": [],
   "source": [
    "e = df.collect()"
   ]
  },
  {
   "cell_type": "markdown",
   "id": "f4b5031a-d290-4d5a-b601-0927f0cfe25e",
   "metadata": {
    "jp-MarkdownHeadingCollapsed": true,
    "tags": []
   },
   "source": [
    "### Сортировка"
   ]
  },
  {
   "cell_type": "code",
   "execution_count": null,
   "id": "3f82a622-d101-4c07-9bfe-674abf62dcc7",
   "metadata": {},
   "outputs": [],
   "source": [
    "def bucketing_single_partition(df: DataFrame, table_name: str, column: str, buckets: int = 100) -> DataFrame:\n",
    "    (\n",
    "    df.repartition(1)\n",
    "      .write\n",
    "      .mode(\"overwrite\")\n",
    "      .bucketBy(buckets, column)\n",
    "      .sortBy(column)\n",
    "      .saveAsTable(table_name)\n",
    "    )\n",
    "    return spark.table(table_name)"
   ]
  },
  {
   "cell_type": "code",
   "execution_count": null,
   "id": "b3352905-7c5a-4a59-9f1b-a07664fc9f16",
   "metadata": {},
   "outputs": [],
   "source": [
    "recomendations_single_partition = bucketing_single_partition(\n",
    "  recomendations_df,\n",
    "  \"recomendations_single_partition\",\n",
    "  \"user_id\"\n",
    ")\n",
    "users_single_partition = bucketing_single_partition(\n",
    "  users_df,\n",
    "  \"users_single_partition\",\n",
    "  \"user_id\"\n",
    ")"
   ]
  },
  {
   "cell_type": "code",
   "execution_count": null,
   "id": "10cb75c0-5a47-4eec-b086-9c34fb50eb8a",
   "metadata": {},
   "outputs": [],
   "source": [
    "spark.sql(\"DESC EXTENDED recomendations_single_partition\").show(40, False)"
   ]
  },
  {
   "cell_type": "code",
   "execution_count": null,
   "id": "2c8fd74c-7358-4c86-b86b-e278c268f58d",
   "metadata": {},
   "outputs": [],
   "source": [
    "spark.sql(\"DESC EXTENDED users_single_partition\").show(40, False)"
   ]
  },
  {
   "cell_type": "code",
   "execution_count": null,
   "id": "df9f1488-e0dc-4afe-a2d9-732479e0a2a2",
   "metadata": {},
   "outputs": [],
   "source": [
    "users.join(recomendations, \"user_id\").explain()"
   ]
  },
  {
   "cell_type": "code",
   "execution_count": null,
   "id": "41726b5f-fc78-4425-92a8-dacfd97ac1e8",
   "metadata": {},
   "outputs": [],
   "source": [
    "users_single_partition.join(recomendations_single_partition, \"user_id\").explain()"
   ]
  },
  {
   "cell_type": "code",
   "execution_count": null,
   "id": "f55a01f0-17b1-401c-b07f-241e410f8743",
   "metadata": {},
   "outputs": [],
   "source": [
    "spark.conf.get(\"spark.sql.legacy.bucketedTableScan.outputOrdering\")"
   ]
  },
  {
   "cell_type": "code",
   "execution_count": null,
   "id": "8f6a18e9-758e-44db-8abe-dca133d33dd1",
   "metadata": {},
   "outputs": [],
   "source": [
    "spark.conf.set(\"spark.sql.legacy.bucketedTableScan.outputOrdering\", True)"
   ]
  },
  {
   "cell_type": "code",
   "execution_count": null,
   "id": "f2edc4d5-0f86-48d4-a97b-76b480fcafa1",
   "metadata": {},
   "outputs": [],
   "source": [
    "users_single_partition.join(recomendations_single_partition, \"user_id\").explain()"
   ]
  },
  {
   "cell_type": "markdown",
   "id": "263629ee-528c-4751-a172-e048ba90674d",
   "metadata": {
    "jp-MarkdownHeadingCollapsed": true,
    "tags": []
   },
   "source": [
    "### Аггрегаты без shuffle"
   ]
  },
  {
   "cell_type": "code",
   "execution_count": null,
   "id": "3f6f8564-50d7-4b2e-bee5-c63c04cb41e5",
   "metadata": {},
   "outputs": [],
   "source": [
    "users_df.groupby('user_id').count().explain()"
   ]
  },
  {
   "cell_type": "code",
   "execution_count": null,
   "id": "a26396e6-578f-4ccc-8844-239cfc19bcf4",
   "metadata": {},
   "outputs": [],
   "source": [
    "users.groupby('user_id').count().explain()"
   ]
  },
  {
   "cell_type": "code",
   "execution_count": null,
   "id": "38047a27-ccbc-4038-b269-aaf36b931d88",
   "metadata": {},
   "outputs": [],
   "source": [
    "df = (\n",
    "  users_df\n",
    "    .withColumn(\n",
    "      'cnt',\n",
    "      F.count('*')\n",
    "        .over(Window().partitionBy('user_id'))\n",
    "    )\n",
    "  )\n",
    "df.explain()"
   ]
  },
  {
   "cell_type": "code",
   "execution_count": null,
   "id": "b28f7e9d-e392-4040-a2c8-7c59ec4909cf",
   "metadata": {},
   "outputs": [],
   "source": [
    "df = (\n",
    "  users\n",
    "    .withColumn(\n",
    "      'cnt',\n",
    "      F.count('*')\n",
    "        .over(Window().partitionBy('user_id'))\n",
    "    )\n",
    "  )\n",
    "df.explain()"
   ]
  },
  {
   "cell_type": "code",
   "execution_count": null,
   "id": "9afe9a0a-de78-4503-a630-6de47d4d356b",
   "metadata": {},
   "outputs": [],
   "source": [
    "df = (\n",
    "  users_single_partition\n",
    "    .withColumn(\n",
    "      'cnt',\n",
    "      F.count('*')\n",
    "        .over(Window().partitionBy('user_id'))\n",
    "    )\n",
    "  )\n",
    "df.explain()"
   ]
  },
  {
   "cell_type": "code",
   "execution_count": null,
   "id": "7c39ca78-fdce-438a-84e2-3ab6e356b063",
   "metadata": {},
   "outputs": [],
   "source": []
  },
  {
   "cell_type": "markdown",
   "id": "cd5ee705-a09c-4660-bed9-29c2a34a684d",
   "metadata": {
    "tags": []
   },
   "source": [
    "## Особенности"
   ]
  },
  {
   "cell_type": "markdown",
   "id": "4eef777e-0980-4f5e-acc2-3181db027ce9",
   "metadata": {},
   "source": [
    "### Неравное количество бакетов"
   ]
  },
  {
   "cell_type": "code",
   "execution_count": null,
   "id": "eb3354ec-7034-4b87-afda-2121444ec936",
   "metadata": {},
   "outputs": [],
   "source": [
    "recomendations = bucketing(recomendations_df, \"recomendations\", \"user_id\", 50)"
   ]
  },
  {
   "cell_type": "code",
   "execution_count": null,
   "id": "9eb45ff5-c17c-41cd-baa0-afb5fb5e727e",
   "metadata": {},
   "outputs": [],
   "source": [
    "spark.sql(\"DESC EXTENDED recomendations\").where(\"col_name == 'Num Buckets'\").show()"
   ]
  },
  {
   "cell_type": "code",
   "execution_count": null,
   "id": "81b9ce9c-41ee-4efa-ae53-5b27e85a4977",
   "metadata": {},
   "outputs": [],
   "source": [
    "spark.sql(\"DESC EXTENDED users\").where(\"col_name == 'Num Buckets'\").show()"
   ]
  },
  {
   "cell_type": "code",
   "execution_count": null,
   "id": "4ddc26e0-39a4-48e7-96a3-65d82ff692e4",
   "metadata": {},
   "outputs": [],
   "source": [
    "users.join(recomendations, \"user_id\").explain()"
   ]
  },
  {
   "cell_type": "code",
   "execution_count": null,
   "id": "b9e76f45-1cd7-4989-91aa-854df02b8a94",
   "metadata": {},
   "outputs": [],
   "source": [
    "(\n",
    "users.repartition(50, \"user_id\")\n",
    "  .join(recomendations, \"user_id\")\n",
    "  .explain()\n",
    ")"
   ]
  },
  {
   "cell_type": "code",
   "execution_count": null,
   "id": "292ae0dd-94e7-4175-a06e-16d53fc7175a",
   "metadata": {},
   "outputs": [],
   "source": [
    "spark.conf.get(\"spark.sql.bucketing.coalesceBucketsInJoin.enabled\")"
   ]
  },
  {
   "cell_type": "code",
   "execution_count": null,
   "id": "0977d401-9af6-484c-a485-e8b20f1bbe3c",
   "metadata": {},
   "outputs": [],
   "source": [
    "spark.conf.set(\"spark.sql.bucketing.coalesceBucketsInJoin.enabled\", True)"
   ]
  },
  {
   "cell_type": "code",
   "execution_count": null,
   "id": "117f780b-51f5-49ab-b3d3-ab494c902606",
   "metadata": {},
   "outputs": [],
   "source": [
    "# автоматическое склеивание партиций не работает при включенном AQE. Обновления в https://github.com/apache/spark/pull/40688\n",
    "spark.conf.set(\"spark.sql.adaptive.enabled\", False)"
   ]
  },
  {
   "cell_type": "code",
   "execution_count": null,
   "id": "ace60056-72da-4668-8af9-622600cd239c",
   "metadata": {},
   "outputs": [],
   "source": [
    "users.join(recomendations, \"user_id\").explain()"
   ]
  },
  {
   "cell_type": "code",
   "execution_count": null,
   "id": "541f0812-eba7-4ce0-be88-fdc54935cd86",
   "metadata": {},
   "outputs": [],
   "source": [
    "spark.conf.get(\"spark.sql.bucketing.coalesceBucketsInJoin.maxBucketRatio\")"
   ]
  },
  {
   "cell_type": "code",
   "execution_count": null,
   "id": "ff6df592-0daa-4b57-b974-18692466cc45",
   "metadata": {},
   "outputs": [],
   "source": [
    "spark.conf.set(\"spark.sql.bucketing.coalesceBucketsInJoin.maxBucketRatio\", 10)"
   ]
  },
  {
   "cell_type": "code",
   "execution_count": null,
   "id": "c974af36-2b3b-40fd-a256-f48fac86cb95",
   "metadata": {},
   "outputs": [],
   "source": [
    "users.join(recomendations, \"user_id\").explain(True)"
   ]
  },
  {
   "cell_type": "code",
   "execution_count": null,
   "id": "c268439a-2e7e-4023-910d-bfae37f02f7d",
   "metadata": {},
   "outputs": [],
   "source": [
    "spark.sql(\"select /*+ SHUFFLE_HASH(u) */ * from users u join recomendations using (user_id)\").explain()"
   ]
  },
  {
   "cell_type": "markdown",
   "id": "65d5ebac-6e32-4243-bf2d-dbcb3befefe5",
   "metadata": {
    "tags": []
   },
   "source": [
    "### Загрузка данных"
   ]
  },
  {
   "cell_type": "markdown",
   "id": "e0287eda-857d-4414-8f9b-273108ac99e6",
   "metadata": {},
   "source": [
    "Spark хранит метаинформацию о том, что конкретная таблица имеет конкретное количество бакетов, поэтому обязательно необходимо создавать датафрейм из таблицы:"
   ]
  },
  {
   "cell_type": "code",
   "execution_count": null,
   "id": "a7927c83-20d6-4c86-9817-47681b444316",
   "metadata": {},
   "outputs": [],
   "source": [
    "(\n",
    "  spark\n",
    "    .table(\"users\")\n",
    "    .groupby('user_id')\n",
    "    .count()\n",
    "    .explain()\n",
    ")"
   ]
  },
  {
   "cell_type": "markdown",
   "id": "11fd5884-1959-48eb-99e9-cf83b080990f",
   "metadata": {},
   "source": [
    "Если загрузить данные просто как parquet, то бакетинг исползоваться не будет:"
   ]
  },
  {
   "cell_type": "code",
   "execution_count": null,
   "id": "d40ea020-7104-4c16-af88-32c183096d43",
   "metadata": {},
   "outputs": [],
   "source": [
    "(\n",
    "  spark\n",
    "    .read.parquet('/tmp/spark-warehouse/users')\n",
    "    .groupby('user_id')\n",
    "    .count()\n",
    "    .explain()\n",
    ")"
   ]
  },
  {
   "cell_type": "markdown",
   "id": "8e54cd0d-2ec7-493b-b827-30b73cb4c10c",
   "metadata": {},
   "source": [
    "### Разные типы данных ключа"
   ]
  },
  {
   "cell_type": "code",
   "execution_count": null,
   "id": "8903ae8c-3570-4868-b580-11466548ca95",
   "metadata": {},
   "outputs": [],
   "source": [
    "users_df_long_key = (\n",
    "  users_df\n",
    "    .limit(1000)\n",
    "    .withColumn(\n",
    "      'user_id_long',\n",
    "      col('user_id').cast(\"long\")\n",
    "    )\n",
    ")\n",
    "users_df_long_key.printSchema()"
   ]
  },
  {
   "cell_type": "code",
   "execution_count": null,
   "id": "edde7b21-ac26-4400-ab1f-47c381f6c23e",
   "metadata": {},
   "outputs": [],
   "source": [
    "users_long_key = bucketing(users_df_long_key, \"users_long_key\", \"user_id_long\")"
   ]
  },
  {
   "cell_type": "code",
   "execution_count": null,
   "id": "89827413-89db-47a5-9370-3a0a0289703c",
   "metadata": {},
   "outputs": [],
   "source": [
    "users_long_key.groupby('user_id_long').count().explain()"
   ]
  },
  {
   "cell_type": "code",
   "execution_count": null,
   "id": "202ee403-c8d6-4929-92ea-84bfdb85c388",
   "metadata": {},
   "outputs": [],
   "source": [
    "(\n",
    "  users_df_long_key\n",
    "    .join(\n",
    "      recomendations,\n",
    "      users_df_long_key.user_id_long == recomendations.user_id\n",
    "    )\n",
    "    .explain()\n",
    ")"
   ]
  },
  {
   "cell_type": "code",
   "execution_count": null,
   "id": "c13f9509-3d51-4cf2-8b50-dbf9542cd58b",
   "metadata": {},
   "outputs": [],
   "source": [
    "users_id_long = users.withColumn(\"user_id_long\", col(\"user_id\"))\n",
    "(\n",
    "  users_id_long\n",
    "    .join(\n",
    "      recomendations,\n",
    "      users_id_long.user_id_long == recomendations.user_id\n",
    "    )\n",
    "    .explain()\n",
    ")"
   ]
  },
  {
   "cell_type": "markdown",
   "id": "f2321bdb-1c14-42a3-869c-52ba643c5ad2",
   "metadata": {},
   "source": [
    "### Пользовательские функции"
   ]
  },
  {
   "cell_type": "code",
   "execution_count": null,
   "id": "4d73c63b-d2a3-434c-be47-72f934d80ec9",
   "metadata": {},
   "outputs": [],
   "source": [
    "many_reviews = lambda reviews: reviews > 5\n",
    "many_reviews_udf = F.udf(many_reviews)"
   ]
  },
  {
   "cell_type": "code",
   "execution_count": null,
   "id": "b2744bd8-0587-40c5-8442-0f2ea963ecb3",
   "metadata": {},
   "outputs": [],
   "source": [
    "(\n",
    "  users.withColumn(\n",
    "      \"many_reviews\",\n",
    "      many_reviews_udf(col(\"reviews\"))\n",
    "    )\n",
    "    .join(recomendations, \"user_id\")\n",
    "    .explain()\n",
    ")"
   ]
  },
  {
   "cell_type": "code",
   "execution_count": null,
   "id": "192286e5-c1bb-4e36-ae44-98395e04b42b",
   "metadata": {},
   "outputs": [],
   "source": [
    "(\n",
    "  users\n",
    "    .join(recomendations, \"user_id\")\n",
    "    .withColumn(\n",
    "      \"many_reviews\",\n",
    "      many_reviews_udf(col(\"reviews\"))\n",
    "    )\n",
    "    .explain()\n",
    ")"
   ]
  },
  {
   "cell_type": "markdown",
   "id": "bc4a3b13-5ee9-41c6-98f8-faf3745102f4",
   "metadata": {},
   "source": [
    "### Динамическое партиционирование"
   ]
  },
  {
   "cell_type": "code",
   "execution_count": null,
   "id": "21c47860-374c-4ce1-936d-197a01e0d6ed",
   "metadata": {},
   "outputs": [],
   "source": [
    "recomendations_part_by_year_df = recomendations_df \\\n",
    "  .withColumn(\n",
    "    \"year\",\n",
    "    F.date_format(col(\"date\"), \"y\")\n",
    "  )"
   ]
  },
  {
   "cell_type": "code",
   "execution_count": null,
   "id": "3e85589e-47d9-47c8-9ccf-c85d4130ca2a",
   "metadata": {},
   "outputs": [],
   "source": [
    "def bucketing_partition(df: DataFrame, table_name: str, column: str, partition: str, buckets: int = 100) -> DataFrame:\n",
    "    (\n",
    "    df.write\n",
    "      .mode(\"overwrite\")\n",
    "      .bucketBy(buckets, column)\n",
    "      .partitionBy(partition)\n",
    "      .sortBy(column)\n",
    "      .saveAsTable(table_name)\n",
    "    )\n",
    "    return spark.table(table_name)"
   ]
  },
  {
   "cell_type": "code",
   "execution_count": null,
   "id": "0bff8f9d-d8e7-4fe7-85ba-78681d5155d6",
   "metadata": {},
   "outputs": [],
   "source": [
    "recomendations_part_by_year = bucketing_partition(recomendations_part_by_year_df, \"recomendations_part_by_year\", \"user_id\", \"year\")"
   ]
  },
  {
   "cell_type": "code",
   "execution_count": null,
   "id": "6614934a-2aa5-48f8-839e-52f36a732211",
   "metadata": {},
   "outputs": [],
   "source": [
    "recomendations_part_by_year_df.where('year == 2012').explain()"
   ]
  },
  {
   "cell_type": "code",
   "execution_count": null,
   "id": "27979fa5-0890-4526-8a46-a543f5fff95d",
   "metadata": {},
   "outputs": [],
   "source": [
    "recomendations_part_by_year.where('year == 2012').explain(mode=\"formatted\")"
   ]
  },
  {
   "cell_type": "code",
   "execution_count": null,
   "id": "61db2b22-f802-4084-9870-1c15c7d2d7a2",
   "metadata": {},
   "outputs": [],
   "source": [
    "(\n",
    "recomendations_part_by_year\n",
    "  .where('year == 2013')\n",
    "  .limit(5)\n",
    "  .withColumn('year', F.lit(\"2023\"))\n",
    "  .explain()\n",
    ")"
   ]
  },
  {
   "cell_type": "code",
   "execution_count": null,
   "id": "b44a32fc-6cf1-4c0a-94b7-904961129ad7",
   "metadata": {},
   "outputs": [],
   "source": [
    "new_data = (\n",
    "  recomendations_part_by_year\n",
    "    .where('year == 2013')\n",
    "    .withColumn('date', F.add_months(col('date'), 10 * 12))\n",
    "    .withColumn('year', F.lit(\"2023\"))\n",
    "    .limit(5)\n",
    "  )\n",
    "\n",
    "new_data.explain()"
   ]
  },
  {
   "cell_type": "code",
   "execution_count": null,
   "id": "d0b2300e-9e7d-4e72-a6ff-165d4305e266",
   "metadata": {},
   "outputs": [],
   "source": [
    "new_data.write.insertInto(\"recomendations_part_by_year\")"
   ]
  },
  {
   "cell_type": "code",
   "execution_count": null,
   "id": "2a6ca47c-6faf-4348-be22-86f76ffc297f",
   "metadata": {},
   "outputs": [],
   "source": [
    "recomendations_part_by_year.where(\"year = 2023\").explain(mode=\"formatted\")"
   ]
  },
  {
   "cell_type": "markdown",
   "id": "1fa8f53a-2aae-42ac-a426-3897aa72dae8",
   "metadata": {},
   "source": [
    "## Конфигурация"
   ]
  },
  {
   "cell_type": "markdown",
   "id": "fb464245-5aea-4a2f-9e1a-05e32c87db28",
   "metadata": {},
   "source": [
    "- `spark.sql.sources.bucketing.enabled` — включить поддержку бакетов? По умолчанию True.\n",
    "- `spark.sql.sources.bucketing.maxBuckets` — максимальное количество бакетов на таблицу. По умолчанию 100000 (100 тысяч).\n",
    "- `spark.sql.sources.bucketing.autoBucketedScan.enabled` — Исключить использование бакетов из плана запроса, если без них эффективнее. По умолчанию True.\n",
    "- `spark.sql.bucketing.coalesceBucketsInJoin.enabled` — если две таблицы при join имеют разное количество бакетов, слить (coalesce) несколько бакетов большей таблицы в один, чтобы уровнять число бакетов. Сработает только, если большее количество бакетов без остатка делится на меньшее (100 и 50, например). По умолчанию False\n",
    "- `spark.sql.bucketing.coalesceBucketsInJoin.maxBucketRatio` — во сколько раз сколько количество бакетов может отличаться, чтобы выполнить слияние согласно настройке `spark.sql.bucketing.coalesceBucketsInJoin.enabled` (см. выше). По умолчанию, не больше чем в 4 раза.\n",
    "- `spark.sql.legacy.bucketedTableScan.outputOrdering` — исключать сортировку из плана запроса, если бакет состоит из одного файла и все данные в нем отсортированы. По умолчанию False."
   ]
  }
 ],
 "metadata": {
  "kernelspec": {
   "display_name": "Python 3 (ipykernel)",
   "language": "python",
   "name": "python3"
  },
  "language_info": {
   "codemirror_mode": {
    "name": "ipython",
    "version": 3
   },
   "file_extension": ".py",
   "mimetype": "text/x-python",
   "name": "python",
   "nbconvert_exporter": "python",
   "pygments_lexer": "ipython3",
   "version": "3.10.9"
  }
 },
 "nbformat": 4,
 "nbformat_minor": 5
}
