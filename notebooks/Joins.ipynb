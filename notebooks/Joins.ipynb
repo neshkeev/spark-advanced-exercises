{
 "cells": [
  {
   "cell_type": "markdown",
   "id": "2e7e83c1-4eb7-4edc-b5c4-793f0ce3e18f",
   "metadata": {},
   "source": [
    "# Оптимизация JOIN"
   ]
  },
  {
   "cell_type": "markdown",
   "id": "a3953e22-50d0-4d41-82a5-ff445f7aa620",
   "metadata": {
    "tags": []
   },
   "source": [
    "## Подготовка"
   ]
  },
  {
   "cell_type": "code",
   "execution_count": null,
   "id": "434a5ad3-8c50-47f9-96b7-91241f02650b",
   "metadata": {
    "tags": []
   },
   "outputs": [],
   "source": [
    "from pyspark.sql import SparkSession\n",
    "from pyspark.sql.functions import col, sum, explode, min, max\n",
    "from pyspark.sql.types import *\n",
    "from pyspark.sql import functions as F"
   ]
  },
  {
   "cell_type": "code",
   "execution_count": null,
   "id": "938212c6-a348-40fc-9d1d-dfb2006ec667",
   "metadata": {
    "tags": []
   },
   "outputs": [],
   "source": [
    "spark = SparkSession \\\n",
    "  .builder \\\n",
    "  .appName(\"Joins Optimizations\") \\\n",
    "  .master(\"local[4]\") \\\n",
    "  .config(\"spark.sql.autoBroadcastJoinThreshold\", \"-1\") \\\n",
    "  .config(\"spark.sql.warehouse.dir\", \"/tmp/spark-warehouse\") \\\n",
    "  .getOrCreate()\n",
    "\n",
    "sc = spark.sparkContext"
   ]
  },
  {
   "cell_type": "code",
   "execution_count": null,
   "id": "e892eafd-a592-46d0-aa9a-0aea9739ca47",
   "metadata": {
    "tags": []
   },
   "outputs": [],
   "source": [
    "! cd /tmp && rm -rf steam && rm -rf /tmp/spark-warehouse && unzip ~/notebooks/steam.zip && cd -"
   ]
  },
  {
   "cell_type": "code",
   "execution_count": null,
   "id": "d3b1cabe-66c6-49d3-888f-254c1a934429",
   "metadata": {
    "tags": []
   },
   "outputs": [],
   "source": [
    "games = spark.read.parquet(\"/tmp/steam/games.parquet\")\n",
    "details = spark.read.parquet(\"/tmp/steam/details.parquet\")\n",
    "tags = spark.read.parquet(\"/tmp/steam/tags.parquet\")\n",
    "recomendations = spark.read.parquet(\"/tmp/steam/recomendations.parquet\")\n",
    "users = spark.read.parquet(\"/tmp/steam/users.parquet\")"
   ]
  },
  {
   "cell_type": "code",
   "execution_count": null,
   "id": "b079367e-bb5b-407a-a70a-70041347826c",
   "metadata": {
    "tags": []
   },
   "outputs": [],
   "source": [
    "games.printSchema()"
   ]
  },
  {
   "cell_type": "code",
   "execution_count": null,
   "id": "8ffcee8d-f6d4-475f-aacb-901452f3f7d8",
   "metadata": {
    "tags": []
   },
   "outputs": [],
   "source": [
    "recomendations.printSchema()"
   ]
  },
  {
   "cell_type": "code",
   "execution_count": null,
   "id": "76324459-c9cf-4d6c-a5f5-7f059dd8d111",
   "metadata": {
    "tags": []
   },
   "outputs": [],
   "source": [
    "users.printSchema()"
   ]
  },
  {
   "cell_type": "code",
   "execution_count": null,
   "id": "9d2a7d66-087b-4530-a979-747b5f11fb09",
   "metadata": {
    "tags": []
   },
   "outputs": [],
   "source": [
    "details.printSchema()"
   ]
  },
  {
   "cell_type": "code",
   "execution_count": null,
   "id": "b9f5e279-f8c7-44f6-9551-342d40403be2",
   "metadata": {
    "tags": []
   },
   "outputs": [],
   "source": [
    "tags.printSchema()"
   ]
  },
  {
   "cell_type": "markdown",
   "id": "5a3c758c-13b5-4a5f-ab38-f6a9f313ce47",
   "metadata": {},
   "source": [
    "## Оптимизация через анализ потребления ресурсов"
   ]
  },
  {
   "cell_type": "code",
   "execution_count": null,
   "id": "a53d62c1-c9bc-49ba-86df-a3bbd461e544",
   "metadata": {
    "tags": []
   },
   "outputs": [],
   "source": [
    "result = details \\\n",
    "  .join(tags, \"tag\") \\\n",
    "  .join(games, \"app_id\")\n",
    "result.count()\n",
    "result.explain()"
   ]
  },
  {
   "cell_type": "code",
   "execution_count": null,
   "id": "228cd626-3512-4918-a65f-1153677ba513",
   "metadata": {},
   "outputs": [],
   "source": [
    "result = details \\\n",
    "  .join(games, \"app_id\") \\\n",
    "  .join(tags, \"tag\")\n",
    "result.count()\n",
    "result.explain()"
   ]
  },
  {
   "cell_type": "markdown",
   "id": "77eea77d-b3c0-4910-a4f0-f78ef106c4b9",
   "metadata": {},
   "source": [
    "## Оптимизация на базе стомости"
   ]
  },
  {
   "cell_type": "code",
   "execution_count": null,
   "id": "6b8c8dcd-1ed3-4af0-bb63-f16dc67d1761",
   "metadata": {},
   "outputs": [],
   "source": [
    "spark.conf.set(\"spark.sql.cbo.enabled\", True)\n",
    "spark.conf.set(\"spark.sql.cbo.joinReorder.enabled\", True)\n",
    "spark.conf.set(\"spark.sql.statistics.histogram.enabled\", True)\n",
    "spark.conf.set(\"spark.sql.statistics.size.autoUpdate.enabled\", True)"
   ]
  },
  {
   "cell_type": "code",
   "execution_count": null,
   "id": "ae72ee49-b0e2-451d-bdaa-d2beec8a8aab",
   "metadata": {},
   "outputs": [],
   "source": [
    "spark.sql(\"DROP TABLE IF EXISTS games\")\n",
    "spark.sql(\"DROP TABLE IF EXISTS details\")\n",
    "spark.sql(\"DROP TABLE IF EXISTS tags\")"
   ]
  },
  {
   "cell_type": "code",
   "execution_count": null,
   "id": "f7368beb-862b-42d8-978f-1726bec963f3",
   "metadata": {},
   "outputs": [],
   "source": [
    "games.write.mode(\"overwrite\").saveAsTable(\"games\")\n",
    "details.write.mode(\"overwrite\").saveAsTable(\"details\")\n",
    "tags.write.mode(\"overwrite\").saveAsTable(\"tags\")"
   ]
  },
  {
   "cell_type": "code",
   "execution_count": null,
   "id": "9c1199b0-1094-418b-8bf7-38c0b34a6aef",
   "metadata": {},
   "outputs": [],
   "source": [
    "spark.sql(\"ANALYZE TABLE games COMPUTE STATISTICS FOR ALL COLUMNS\")"
   ]
  },
  {
   "cell_type": "code",
   "execution_count": null,
   "id": "ce695628-424d-4310-a89d-14b5576ab6c6",
   "metadata": {},
   "outputs": [],
   "source": [
    "spark.sql(\"DESC EXTENDED games app_id\") \\\n",
    "  .repartition(1) \\\n",
    "  .withColumn(\"id\", F.monotonically_increasing_id()) \\\n",
    "  .where(col(\"id\").between(0, 21) | col(\"id\").between(250, 270)) \\\n",
    "  .show(40, False)"
   ]
  },
  {
   "cell_type": "code",
   "execution_count": null,
   "id": "b7275464-5d2e-406c-a8a7-2880c82baf8d",
   "metadata": {},
   "outputs": [],
   "source": [
    "games \\\n",
    "  .select(\n",
    "    min(col(\"app_id\")),\n",
    "    max(col(\"app_id\"))\n",
    "  ) \\\n",
    "  .show()"
   ]
  },
  {
   "cell_type": "code",
   "execution_count": null,
   "id": "f480ed09-e6bf-412a-b753-f2e8f17cc9db",
   "metadata": {},
   "outputs": [],
   "source": [
    "spark.sql(\"ANALYZE TABLE details COMPUTE STATISTICS FOR ALL COLUMNS\")\n",
    "spark.sql(\"ANALYZE TABLE tags COMPUTE STATISTICS FOR ALL COLUMNS\")"
   ]
  },
  {
   "cell_type": "code",
   "execution_count": null,
   "id": "a0ab1814-500b-4b31-8079-345e117e4b6c",
   "metadata": {},
   "outputs": [],
   "source": [
    "res = spark.sql(\"\"\"\n",
    "  SELECT *\n",
    "    FROM details\n",
    "    JOIN tags USING (tag)\n",
    "    JOIN games USING (app_id)\n",
    "\"\"\")\n",
    "res.count()\n",
    "res.explain()"
   ]
  },
  {
   "cell_type": "code",
   "execution_count": null,
   "id": "a717026f-5867-4678-97af-8822d40ff8f0",
   "metadata": {},
   "outputs": [],
   "source": [
    "res = spark.sql(\"\"\"\n",
    "  SELECT *\n",
    "    FROM games\n",
    "    JOIN details USING (app_id)\n",
    "    JOIN tags USING (tag)\n",
    "\"\"\")\n",
    "res.count()\n",
    "res.explain()"
   ]
  },
  {
   "cell_type": "markdown",
   "id": "a4af2f51-aa6e-4b42-b5b6-db36eaf4b93d",
   "metadata": {},
   "source": [
    "## Оптимизация при помощи hint инструкций"
   ]
  },
  {
   "cell_type": "markdown",
   "id": "766ceb67-c916-4e2a-80f9-8a5e6bf53327",
   "metadata": {},
   "source": [
    "### Spark DSL"
   ]
  },
  {
   "cell_type": "code",
   "execution_count": null,
   "id": "0992c243-4396-4cfa-856f-dc187d08f0b6",
   "metadata": {},
   "outputs": [],
   "source": [
    "users.join(recomendations, \"user_id\").explain()"
   ]
  },
  {
   "cell_type": "code",
   "execution_count": null,
   "id": "84ceec0e-c26b-42cd-9cf4-c72cd1946cad",
   "metadata": {},
   "outputs": [],
   "source": [
    "spark.conf.get(\"spark.sql.shuffle.partitions\")"
   ]
  },
  {
   "cell_type": "code",
   "execution_count": null,
   "id": "e57655a1-0e04-4483-bbe6-c7026b5a9276",
   "metadata": {},
   "outputs": [],
   "source": [
    "spark.conf.set(\"spark.sql.shuffle.partitions\", 2000)"
   ]
  },
  {
   "cell_type": "code",
   "execution_count": null,
   "id": "8fb4614a-ae7a-424e-878e-4fa03e436eaa",
   "metadata": {},
   "outputs": [],
   "source": [
    "users.join(recomendations.hint(\"SHUFFLE_HASH\"), \"user_id\").explain()"
   ]
  },
  {
   "cell_type": "code",
   "execution_count": null,
   "id": "dc71e883-a403-41f2-a5a3-3a4a8a0ea650",
   "metadata": {},
   "outputs": [],
   "source": [
    "users.hint(\"BROADCAST\").join(recomendations, \"user_id\").explain()"
   ]
  },
  {
   "cell_type": "markdown",
   "id": "43f89638-202f-49be-b7ae-e29d4fa84c4f",
   "metadata": {},
   "source": [
    "### Spark SQL"
   ]
  },
  {
   "cell_type": "code",
   "execution_count": null,
   "id": "844b7d19-8aa5-4cf7-8b2c-512d9a265519",
   "metadata": {},
   "outputs": [],
   "source": [
    "users.createOrReplaceTempView(\"users\")\n",
    "recomendations.createOrReplaceTempView(\"recomendations\")"
   ]
  },
  {
   "cell_type": "code",
   "execution_count": null,
   "id": "ca93f5f9-2fea-45dc-a377-fe439dc5ffc9",
   "metadata": {},
   "outputs": [],
   "source": [
    "spark.sql(\"SELECT * FROM users JOIN recomendations USING (user_id)\").explain()"
   ]
  },
  {
   "cell_type": "code",
   "execution_count": null,
   "id": "57e4ea37-7d8d-4d5e-b7a1-ba5cfd9b8b63",
   "metadata": {},
   "outputs": [],
   "source": [
    "spark.sql(\"SELECT /*+ SHUFFLE_HASH(r) */ * FROM users u JOIN recomendations r USING (user_id)\").explain()"
   ]
  },
  {
   "cell_type": "code",
   "execution_count": null,
   "id": "1ccc0616-5f90-40cf-9dcb-44fa41329f3b",
   "metadata": {},
   "outputs": [],
   "source": [
    "spark.sql(\"SELECT /*+ BROADCAST(u) */ * FROM users u JOIN recomendations r USING (user_id)\").explain()"
   ]
  },
  {
   "cell_type": "code",
   "execution_count": null,
   "id": "2807da5c-c8e3-47c9-bfb4-527b9835b4d0",
   "metadata": {},
   "outputs": [],
   "source": [
    "spark.sql(\"SELECT /*+ SHUFFLE_REPLICATE_NL(u) */ * FROM users u JOIN recomendations r USING (user_id)\").explain()"
   ]
  },
  {
   "cell_type": "markdown",
   "id": "7e4ab409-8e46-413d-9850-bdbbd8d12890",
   "metadata": {},
   "source": [
    "## Оптимизация неравно распределенных партиций"
   ]
  },
  {
   "cell_type": "markdown",
   "id": "19cf0468-861b-402d-b3d2-09c1bcd7908b",
   "metadata": {},
   "source": [
    "### Воспользоваться AQE"
   ]
  },
  {
   "cell_type": "code",
   "execution_count": null,
   "id": "eb20d28a-abb8-407f-ae9b-85d9e4c1cb05",
   "metadata": {},
   "outputs": [],
   "source": [
    "spark.conf.set(\"spark.sql.shuffle.partitions\", 200)\n",
    "spark.conf.set(\"spark.sql.adaptive.enabled\", False)\n",
    "spark.conf.set(\"spark.sql.adaptive.skewJoin.enabled\", False)"
   ]
  },
  {
   "cell_type": "code",
   "execution_count": null,
   "id": "b733eae9-344f-4c30-a6a4-0a17d3cf6287",
   "metadata": {},
   "outputs": [],
   "source": [
    "result = (\n",
    "  recomendations\n",
    "    .where(col(\"user_id\").isin(11, 18, 32, 36, 42, 56, 60, 66, 67, 68, 75, 79, 83, 89, 104, 105, 110, 124, 131, 134, 3632140))\n",
    "    .repartition(21, \"user_id\")\n",
    "    .join(users, \"user_id\") \n",
    ")\n",
    "result.explain()"
   ]
  },
  {
   "cell_type": "code",
   "execution_count": null,
   "id": "9e352675-cd8e-4777-a193-380f74cc5c25",
   "metadata": {},
   "outputs": [],
   "source": [
    "result.show()"
   ]
  },
  {
   "cell_type": "code",
   "execution_count": null,
   "id": "4950da00-b6a1-4174-8db2-1c7c9f09e433",
   "metadata": {},
   "outputs": [],
   "source": [
    "spark.conf.set(\"spark.sql.adaptive.enabled\", True)\n",
    "spark.conf.set(\"spark.sql.adaptive.skewJoin.enabled\", True)\n",
    "spark.conf.set(\"spark.sql.adaptive.skewJoin.skewedPartitionFactor\", 5)\n",
    "spark.conf.set(\"spark.sql.adaptive.skewJoin.skewedPartitionThresholdInBytes\", 10)"
   ]
  },
  {
   "cell_type": "code",
   "execution_count": null,
   "id": "becf0088-65d9-4324-864b-b0f34b5a3403",
   "metadata": {},
   "outputs": [],
   "source": [
    "result = (\n",
    "  recomendations\n",
    "    .where(col(\"user_id\").isin(11, 18, 32, 36, 42, 56, 60, 66, 67, 68, 75, 79, 83, 89, 104, 105, 110, 124, 131, 134, 3632140))\n",
    "    .repartition(21, \"user_id\")\n",
    "    .join(users, \"user_id\") \n",
    ")\n",
    "result.explain()"
   ]
  },
  {
   "cell_type": "code",
   "execution_count": null,
   "id": "8baa1572-8354-4bf1-81d7-eee87da8179e",
   "metadata": {},
   "outputs": [],
   "source": [
    "result.show()"
   ]
  },
  {
   "cell_type": "code",
   "execution_count": null,
   "id": "9425190e-0e52-41fb-a51c-c25e1dc6d3d5",
   "metadata": {},
   "outputs": [],
   "source": [
    "spark.conf.set(\"spark.sql.adaptive.skewJoin.skewedPartitionFactor\", 5)\n",
    "spark.conf.set(\"spark.sql.adaptive.skewJoin.skewedPartitionThresholdInBytes\", 268435456)"
   ]
  },
  {
   "cell_type": "markdown",
   "id": "a59fb6b5-e399-49af-ba35-d8da50db99d0",
   "metadata": {},
   "source": [
    "### Ручная подготовка ключа"
   ]
  },
  {
   "cell_type": "code",
   "execution_count": null,
   "id": "fbdff707-5d1a-445c-8821-7f78f25add85",
   "metadata": {},
   "outputs": [],
   "source": [
    "recomendations_salted = recomendations \\\n",
    "  .where(col(\"user_id\").isin(11, 18, 32, 36, 42, 56, 60, 66, 67, 68, 75, 79, 83, 89, 104, 105, 110, 124, 131, 134, 3632140)) \\\n",
    "  .withColumn(\n",
    "    \"user_id_salted\",\n",
    "    F.concat(\n",
    "        col(\"user_id\"),\n",
    "        F.lit(\"_\"),\n",
    "        F.floor(F.rand() * 3)\n",
    "    )\n",
    "  )"
   ]
  },
  {
   "cell_type": "code",
   "execution_count": null,
   "id": "dd702680-7f14-4c56-b901-15049d4ede6a",
   "metadata": {},
   "outputs": [],
   "source": [
    "users_salted = users \\\n",
    "  .withColumn(\n",
    "    \"user_id_salted\",\n",
    "    F.explode(\n",
    "      F.array(\n",
    "        [F.concat(col(\"user_id\"), F.lit(\"_\"), F.lit(x))\n",
    "          for x in range(3)\n",
    "        ]\n",
    "      )\n",
    "    )\n",
    "  )"
   ]
  },
  {
   "cell_type": "code",
   "execution_count": null,
   "id": "fbfa767a-4b84-4711-815c-6dd3e64ff44a",
   "metadata": {},
   "outputs": [],
   "source": [
    "salted_join_df = recomendations_salted \\\n",
    "  .join(users_salted, \"user_id_salted\") \\\n",
    "  .drop(users_salted.user_id) \\\n",
    "  .drop(users_salted.user_id_salted)"
   ]
  },
  {
   "cell_type": "code",
   "execution_count": null,
   "id": "034952b7-4723-40cb-9f73-8020fa32f187",
   "metadata": {},
   "outputs": [],
   "source": [
    "salted_join_df.show(5, False)"
   ]
  },
  {
   "cell_type": "markdown",
   "id": "f5252216-5904-42b5-b29a-96a4a2651326",
   "metadata": {},
   "source": [
    "## Theta join"
   ]
  },
  {
   "cell_type": "code",
   "execution_count": null,
   "id": "01ffcabc-0da0-4bd8-ace4-2764cca22e1f",
   "metadata": {},
   "outputs": [],
   "source": [
    "fav_genres = sorted([\"Action\", \"Comedy\", \"Horror\", \"Thriller\", \"Sci-fi\"])"
   ]
  },
  {
   "cell_type": "code",
   "execution_count": null,
   "id": "a294f375-0b98-4a0e-ab47-41092527c621",
   "metadata": {},
   "outputs": [],
   "source": [
    "fav_genres_df = tags.where(col(\"tag\").isin(fav_genres))\n",
    "details_df = details.where(col(\"tag\").isin(fav_genres))"
   ]
  },
  {
   "cell_type": "code",
   "execution_count": null,
   "id": "4252f915-5650-4ede-85e9-4ad95f997dcc",
   "metadata": {},
   "outputs": [],
   "source": [
    "details_df.join(\n",
    "    fav_genres_df,\n",
    "    details_df.tag < fav_genres_df.tag\n",
    ").count()"
   ]
  },
  {
   "cell_type": "code",
   "execution_count": null,
   "id": "f6592c02-aa32-4e05-8498-093ec95142cf",
   "metadata": {},
   "outputs": [],
   "source": [
    "fav_genres_df.createOrReplaceTempView(\"fav_genres\")\n",
    "spark.sql(\"\"\"\n",
    "SELECT *\n",
    "  FROM details d\n",
    "  JOIN fav_genres g\n",
    "    ON (d.tag < g.tag)\n",
    " WHERE d.tag in (select tag from fav_genres)\n",
    "\"\"\"\n",
    ").count()"
   ]
  },
  {
   "cell_type": "code",
   "execution_count": null,
   "id": "87fb453f-4fca-48f0-a468-1062c01e2458",
   "metadata": {
    "tags": []
   },
   "outputs": [],
   "source": [
    "spark.sql(\"\"\"\n",
    "SELECT *\n",
    "  FROM details d\n",
    "  JOIN fav_genres g\n",
    "    ON (CASE \n",
    "          WHEN g.tag == \"Comedy\" THEN d.tag == \"Action\"\n",
    "          WHEN g.tag == \"Horror\" THEN d.tag == \"Action\" OR d.tag == \"Comedy\"\n",
    "          WHEN g.tag == \"Sci-fi\" THEN d.tag == \"Action\" OR d.tag == \"Comedy\" OR d.tag == \"Horror\"\n",
    "          WHEN g.tag == \"Thriller\" THEN d.tag == \"Action\" OR d.tag == \"Comedy\" OR d.tag == \"Horror\" OR d.tag == \"Sci-fi\"\n",
    "          ELSE false\n",
    "        END\n",
    "       )\n",
    "\"\"\"\n",
    ").count()"
   ]
  }
 ],
 "metadata": {
  "kernelspec": {
   "display_name": "Python 3 (ipykernel)",
   "language": "python",
   "name": "python3"
  },
  "language_info": {
   "codemirror_mode": {
    "name": "ipython",
    "version": 3
   },
   "file_extension": ".py",
   "mimetype": "text/x-python",
   "name": "python",
   "nbconvert_exporter": "python",
   "pygments_lexer": "ipython3",
   "version": "3.10.9"
  }
 },
 "nbformat": 4,
 "nbformat_minor": 5
}
